{
 "cells": [
  {
   "cell_type": "markdown",
   "id": "71c67c76-ab19-476f-aa8f-70c5a0b46042",
   "metadata": {},
   "source": [
    "# Example 1\n",
    "This is the example code from Figure 3 in Peacock, J.R. Kappler, K, Heagy, L., Ronan, T., Kelbert, A., Frassetto, A. (2022) MTH5: an archive and exchangeable data format for magnetotelluric time series data, *Computers & Geoscience*, in review."
   ]
  },
  {
   "cell_type": "code",
   "execution_count": 1,
   "id": "1ad07793-7f00-49fd-8730-3e25d4824e36",
   "metadata": {},
   "outputs": [
    {
     "name": "stdout",
     "output_type": "stream",
     "text": [
      "2022-02-01T13:44:36 [line 157] numexpr.utils._init_num_threads - INFO: NumExpr defaulting to 8 threads.\n"
     ]
    }
   ],
   "source": [
    "from mt_metadata.timeseries import Location"
   ]
  },
  {
   "cell_type": "code",
   "execution_count": 2,
   "id": "1146d648-2f5c-4185-b467-ccc4a909c2f2",
   "metadata": {},
   "outputs": [
    {
     "data": {
      "text/plain": [
       "['declination.comments',\n",
       " 'declination.model',\n",
       " 'declination.value',\n",
       " 'elevation',\n",
       " 'latitude',\n",
       " 'longitude']"
      ]
     },
     "execution_count": 2,
     "metadata": {},
     "output_type": "execute_result"
    }
   ],
   "source": [
    "example_spot = Location()\n",
    "example_spot.get_attribute_list()"
   ]
  },
  {
   "cell_type": "code",
   "execution_count": 4,
   "id": "0d18da36-1f7c-42e7-b834-b58a90b5ffe9",
   "metadata": {},
   "outputs": [
    {
     "name": "stdout",
     "output_type": "stream",
     "text": [
      "latitude:\n",
      "\talias: ['lat']\n",
      "\tdefault: 0.0\n",
      "\tdescription: Latitude of location in datum specified at survey level.\n",
      "\texample: 23.134\n",
      "\toptions: []\n",
      "\trequired: True\n",
      "\tstyle: number\n",
      "\ttype: float\n",
      "\tunits: degrees\n"
     ]
    }
   ],
   "source": [
    "example_spot.attribute_information(\"latitude\")"
   ]
  },
  {
   "cell_type": "code",
   "execution_count": 5,
   "id": "2a93666f-4dce-48a2-b429-f41b1d0d9a1c",
   "metadata": {},
   "outputs": [
    {
     "data": {
      "text/plain": [
       "40.38611111111111"
      ]
     },
     "execution_count": 5,
     "metadata": {},
     "output_type": "execute_result"
    }
   ],
   "source": [
    "example_spot.latitude = \"40:23:10\"\n",
    "example_spot.latitude"
   ]
  },
  {
   "cell_type": "code",
   "execution_count": 6,
   "id": "8c62e2be-e75a-4a27-9e60-a6aa1e57f90f",
   "metadata": {},
   "outputs": [
    {
     "data": {
      "text/plain": [
       "-12.5"
      ]
     },
     "execution_count": 6,
     "metadata": {},
     "output_type": "execute_result"
    }
   ],
   "source": [
    "example_spot.set_attr_from_name(\"declination.value\", -12.5)\n",
    "example_spot.declination.value"
   ]
  },
  {
   "cell_type": "code",
   "execution_count": null,
   "id": "3c14e001-d1fd-41fe-bc78-975313a52698",
   "metadata": {},
   "outputs": [],
   "source": []
  }
 ],
 "metadata": {
  "kernelspec": {
   "display_name": "Python 3 (ipykernel)",
   "language": "python",
   "name": "python3"
  },
  "language_info": {
   "codemirror_mode": {
    "name": "ipython",
    "version": 3
   },
   "file_extension": ".py",
   "mimetype": "text/x-python",
   "name": "python",
   "nbconvert_exporter": "python",
   "pygments_lexer": "ipython3",
   "version": "3.7.11"
  }
 },
 "nbformat": 4,
 "nbformat_minor": 5
}
