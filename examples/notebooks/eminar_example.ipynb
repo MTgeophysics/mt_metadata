{
 "cells": [
  {
   "cell_type": "markdown",
   "id": "71c67c76-ab19-476f-aa8f-70c5a0b46042",
   "metadata": {},
   "source": [
    "# Working with `mt_metadata`\n",
    "\n",
    "Here we will show an example of how to work with `mt_metadata`.\n",
    "\n",
    "- For installation see [Installation Instructions](https://mt-metadata.readthedocs.io/en/latest/installation.html).\n",
    "- For more information on `mt_metadata` see [Documentation](https://mt-metadata.readthedocs.io/en/latest/index.html).\n",
    "- For working examples without having to install click here [Binder mt-metadata](https://mybinder.org/v2/gh/kujaku11/mt_metadata/main) and direct the Jupyter Notebook to `mt_metadata/examples/notebooks` and `docs/source/notebooks`"
   ]
  },
  {
   "cell_type": "markdown",
   "id": "dfbc5d9b-2b77-42da-b1db-b126fb48fac0",
   "metadata": {},
   "source": [
    "## Basics\n",
    "\n",
    "Here we will interogate a metadata object.  This example will look at `Location` which describes the spatial coordinates of something.  First, import the `Location` object."
   ]
  },
  {
   "cell_type": "code",
   "execution_count": 12,
   "id": "1ad07793-7f00-49fd-8730-3e25d4824e36",
   "metadata": {},
   "outputs": [],
   "source": [
    "from mt_metadata.timeseries import Location"
   ]
  },
  {
   "cell_type": "markdown",
   "id": "6e7bdbd3-a524-4622-8037-f9ad0386d368",
   "metadata": {},
   "source": [
    "Initialize a `Location` object and have a look at its attributes"
   ]
  },
  {
   "cell_type": "code",
   "execution_count": 2,
   "id": "1146d648-2f5c-4185-b467-ccc4a909c2f2",
   "metadata": {},
   "outputs": [
    {
     "data": {
      "text/plain": [
       "['datum',\n",
       " 'declination.comments',\n",
       " 'declination.epoch',\n",
       " 'declination.model',\n",
       " 'declination.value',\n",
       " 'elevation',\n",
       " 'latitude',\n",
       " 'longitude',\n",
       " 'x',\n",
       " 'x2',\n",
       " 'y',\n",
       " 'y2',\n",
       " 'z',\n",
       " 'z2']"
      ]
     },
     "execution_count": 2,
     "metadata": {},
     "output_type": "execute_result"
    }
   ],
   "source": [
    "example_spot = Location()\n",
    "example_spot.get_attribute_list()"
   ]
  },
  {
   "cell_type": "markdown",
   "id": "2b3af893-1fc0-4776-9c0f-b0fd5b959db5",
   "metadata": {},
   "source": [
    "Find out more information about the attribute `latitude`"
   ]
  },
  {
   "cell_type": "code",
   "execution_count": 14,
   "id": "0d18da36-1f7c-42e7-b834-b58a90b5ffe9",
   "metadata": {},
   "outputs": [
    {
     "name": "stdout",
     "output_type": "stream",
     "text": [
      "latitude:\n",
      "\talias: ['lat']\n",
      "\tdefault: 0.0\n",
      "\tdescription: latitude of location in datum specified at survey level\n",
      "\texample: 23.134\n",
      "\toptions: []\n",
      "\trequired: True\n",
      "\tstyle: number\n",
      "\ttype: float\n",
      "\tunits: degrees\n"
     ]
    }
   ],
   "source": [
    "example_spot.attribute_information(\"latitude\")"
   ]
  },
  {
   "cell_type": "markdown",
   "id": "1b382d0c-3e3c-4af9-a253-fa952d65d404",
   "metadata": {},
   "source": [
    "We see that `latitude` is required to be a float, but we only have the location in `HH:MM:SS` format, will that work?  "
   ]
  },
  {
   "cell_type": "code",
   "execution_count": 4,
   "id": "2a93666f-4dce-48a2-b429-f41b1d0d9a1c",
   "metadata": {},
   "outputs": [
    {
     "data": {
      "text/plain": [
       "40.38611111111111"
      ]
     },
     "execution_count": 4,
     "metadata": {},
     "output_type": "execute_result"
    }
   ],
   "source": [
    "example_spot.latitude = \"40:23:10\"\n",
    "example_spot.latitude"
   ]
  },
  {
   "cell_type": "markdown",
   "id": "c269334d-6956-4a97-bac9-46ff809f63f0",
   "metadata": {},
   "source": [
    "What if you wanted to set the attribute in a different way, say you had a dictionary that looked like:\n",
    "```\n",
    "OrderedDict([('declination.model', 'IGRF'),\n",
    "             ('declination.value', -10.5),\n",
    "             ('elevation', 150.0),\n",
    "             ('latitude', 10.0),\n",
    "             ('longitude', 110.0)])\n",
    "```\n",
    "And you just wanted to loop over keys.  You can use `set_attr_from_name`"
   ]
  },
  {
   "cell_type": "code",
   "execution_count": 5,
   "id": "8c62e2be-e75a-4a27-9e60-a6aa1e57f90f",
   "metadata": {},
   "outputs": [
    {
     "data": {
      "text/plain": [
       "-12.5"
      ]
     },
     "execution_count": 5,
     "metadata": {},
     "output_type": "execute_result"
    }
   ],
   "source": [
    "example_spot.set_attr_from_name(\"declination.value\", -12.5)\n",
    "example_spot.declination.value"
   ]
  },
  {
   "cell_type": "markdown",
   "id": "e7d5073e-9c53-4c22-a075-0ce3d4813f8c",
   "metadata": {},
   "source": [
    "## JSON\n",
    "\n",
    "JSON is a machine/human readable format that is widely used for electronic data transfer and originates from JavaScript.  It is becoming more widely used in the geophysics community and should be supported.  `mt_metadata` has been developed to `read`/`write` JSON files.  \n",
    "\n",
    "Here is an example showing that we can update the metadata from a JSON string or file, or output the data to a json string."
   ]
  },
  {
   "cell_type": "code",
   "execution_count": 16,
   "id": "3c14e001-d1fd-41fe-bc78-975313a52698",
   "metadata": {},
   "outputs": [],
   "source": [
    "spot_json = '{\"location\": {\"declination.model\": \"IGRF\", \"declination.value\": -10.5, \"elevation\": 150.0, \"latitude\": 32.5, \"longitude\": 110.0}}'"
   ]
  },
  {
   "cell_type": "code",
   "execution_count": null,
   "id": "02701f5a-7d6d-4a43-a7c6-b767f7f96c09",
   "metadata": {},
   "outputs": [],
   "source": []
  },
  {
   "cell_type": "code",
   "execution_count": 17,
   "id": "0ce038cc-3183-46d0-b61e-8df29ac0fa9e",
   "metadata": {},
   "outputs": [
    {
     "name": "stdout",
     "output_type": "stream",
     "text": [
      "{\n",
      "    \"location\": {\n",
      "        \"declination.model\": \"IGRF\",\n",
      "        \"declination.value\": -10.5,\n",
      "        \"elevation\": 150.0,\n",
      "        \"latitude\": 32.5,\n",
      "        \"longitude\": 110.0\n",
      "    }\n",
      "}\n"
     ]
    }
   ],
   "source": [
    "example_spot.from_json(spot_json)\n",
    "print(example_spot.to_json())"
   ]
  },
  {
   "cell_type": "markdown",
   "id": "a3e1d929-e400-4676-beeb-7510f446bc92",
   "metadata": {},
   "source": [
    "## XML\n",
    "\n",
    "XML is a common language for metadata and should be supported.  `mt_metadata` supports `read`/`write` XML.  \n",
    "Here is an example showing we can update the metadata from an XML element or output to an XML element."
   ]
  },
  {
   "cell_type": "code",
   "execution_count": 8,
   "id": "8dc5c3a8-f0ae-4917-ace8-0ffafafa968d",
   "metadata": {},
   "outputs": [
    {
     "name": "stdout",
     "output_type": "stream",
     "text": [
      "<?xml version=\"1.0\" ?>\n",
      "<location>\n",
      "    <declination>\n",
      "        <model>IGRF</model>\n",
      "        <value units=\"degrees\">-10.5</value>\n",
      "    </declination>\n",
      "    <elevation units=\"meters\">150.0</elevation>\n",
      "    <latitude units=\"degrees\">32.5</latitude>\n",
      "    <longitude units=\"degrees\">110.0</longitude>\n",
      "</location>\n",
      "\n"
     ]
    }
   ],
   "source": [
    "print(example_spot.to_xml(string=True))"
   ]
  },
  {
   "cell_type": "code",
   "execution_count": 20,
   "id": "e452bbef-5d91-4843-a0c1-87e376cf2009",
   "metadata": {},
   "outputs": [
    {
     "name": "stdout",
     "output_type": "stream",
     "text": [
      "<?xml version=\"1.0\" ?>\n",
      "<location>\n",
      "    <declination>\n",
      "        <model>IGRF</model>\n",
      "        <value units=\"degrees\">-10.5</value>\n",
      "    </declination>\n",
      "    <elevation units=\"meters\">150.0</elevation>\n",
      "    <latitude units=\"degrees\">10.0</latitude>\n",
      "    <longitude units=\"degrees\">110.0</longitude>\n",
      "</location>\n",
      "\n"
     ]
    }
   ],
   "source": [
    "spot_xml = example_spot.to_xml()\n",
    "# change the value of latitude\n",
    "spot_xml.find(\"latitude\").text = \"10\"\n",
    "\n",
    "example_spot.from_xml(spot_xml)\n",
    "print(example_spot.to_xml(string=True))"
   ]
  }
 ],
 "metadata": {
  "kernelspec": {
   "display_name": "Python 3 (ipykernel)",
   "language": "python",
   "name": "python3"
  },
  "language_info": {
   "codemirror_mode": {
    "name": "ipython",
    "version": 3
   },
   "file_extension": ".py",
   "mimetype": "text/x-python",
   "name": "python",
   "nbconvert_exporter": "python",
   "pygments_lexer": "ipython3",
   "version": "3.7.11"
  }
 },
 "nbformat": 4,
 "nbformat_minor": 5
}
