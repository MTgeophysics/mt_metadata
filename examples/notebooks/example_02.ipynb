{
 "cells": [
  {
   "cell_type": "markdown",
   "id": "2abb5551-4221-42a6-9f9f-28433ba1423e",
   "metadata": {},
   "source": [
    "# Example 02\n",
    "This is the example code from Figure 5 in Peacock, J.R. Kappler, K, Heagy, L., Ronan, T., Kelbert, A., Frassetto, A. (2022) MTH5: an archive and exchangeable data format for magnetotelluric time series data, *Computers & Geoscience*, in review."
   ]
  },
  {
   "cell_type": "code",
   "execution_count": 1,
   "id": "bec332bb-100f-4443-aeec-73f4adbe3e43",
   "metadata": {},
   "outputs": [
    {
     "name": "stdout",
     "output_type": "stream",
     "text": [
      "2022-04-12T00:37:09 [line 157] numexpr.utils._init_num_threads - INFO: NumExpr defaulting to 8 threads.\n"
     ]
    }
   ],
   "source": [
    "from mt_metadata.timeseries import (\n",
    "    Experiment, Survey, Station, Run, Electric, Magnetic, Auxiliary\n",
    ")"
   ]
  },
  {
   "cell_type": "markdown",
   "id": "ef90015b-62f4-40e4-b884-5223a0de0792",
   "metadata": {},
   "source": [
    "**Add Surveys, Station, Runs and Channels to an Experiment** "
   ]
  },
  {
   "cell_type": "code",
   "execution_count": 2,
   "id": "89f3ddd3-1ad6-4b79-97e0-9f6661a022b6",
   "metadata": {},
   "outputs": [
    {
     "data": {
      "text/plain": [
       "Experiment Contents\n",
       "--------------------\n",
       "Number of Surveys: 1\n",
       "\tSurvey ID: survey_001\n",
       "\tNumber of Stations: 1\n",
       "\t--------------------\n",
       "\t\tStation ID: MT001\n",
       "\t\tNumber of Runs: 1\n",
       "\t\t--------------------\n",
       "\t\t\tRun ID: run_001\n",
       "\t\t\tNumber of Channels: 7\n",
       "\t\t\tRecorded Channels: ex, ey, hx, hy, hz, temperature, battery\n",
       "\t\t\tStart: 1980-01-01T00:00:00+00:00\n",
       "\t\t\tEnd:   1980-01-01T00:00:00+00:00\n",
       "\t\t\t--------------------"
      ]
     },
     "execution_count": 2,
     "metadata": {},
     "output_type": "execute_result"
    }
   ],
   "source": [
    "mt_experiment = Experiment()\n",
    "\n",
    "survey_object = Survey(id=f\"survey_001\")\n",
    "station_object = Station(id=f\"MT001\")\n",
    "run_object = Run(id=f\"run_001\")\n",
    "for e_channel in [\"ex\", \"ey\"]:\n",
    "    run_object.channels.append(Electric(component=e_channel))\n",
    "for h_channel in [\"hx\", \"hy\", \"hz\"]: \n",
    "    run_object.channels.append(Magnetic(component=h_channel))\n",
    "for aux_channel in [\"temperature\", \"battery\"]:\n",
    "    run_object.channels.append(Auxiliary(component=aux_channel))\n",
    "    \n",
    "station_object.runs.append(run_object)\n",
    "survey_object.stations.append(station_object)\n",
    "mt_experiment.surveys.append(survey_object)\n",
    "\n",
    "mt_experiment                "
   ]
  },
  {
   "cell_type": "markdown",
   "id": "f500ba73-e816-4c6c-9f21-6c310b6213f5",
   "metadata": {},
   "source": [
    "## Update Start and End Times\n",
    "Here is an example of how to update start and end times."
   ]
  },
  {
   "cell_type": "code",
   "execution_count": 3,
   "id": "cb15f717-4ed7-410b-a7af-b7c12674214d",
   "metadata": {},
   "outputs": [],
   "source": [
    "for ch in mt_experiment.surveys[0].stations[0].runs[0].channels:\n",
    "    ch.time_period.start = \"2020-01-01T12:00:00\"\n",
    "    ch.time_period.end = \"2020-02-14T03:00:00\""
   ]
  },
  {
   "cell_type": "code",
   "execution_count": 7,
   "id": "cad6a9d8-210a-4095-8174-17eff517e7b7",
   "metadata": {},
   "outputs": [
    {
     "name": "stdout",
     "output_type": "stream",
     "text": [
      "Run time period: time_period:\n",
      "\tend = 2020-02-14T03:00:00+00:00\n",
      "\tstart = 2020-01-01T12:00:00+00:00\n",
      "Station time period: time_period:\n",
      "\tend = 2020-02-14T03:00:00+00:00\n",
      "\tstart = 2020-01-01T12:00:00+00:00\n",
      "Survey time period: time_period:\n",
      "\tend = 2020-02-14T03:00:00+00:00\n",
      "\tstart = 2020-01-01T12:00:00+00:00\n"
     ]
    }
   ],
   "source": [
    "mt_experiment.surveys[0].stations[0].runs[0].update_time_period()\n",
    "mt_experiment.surveys[0].stations[0].update_time_period()\n",
    "mt_experiment.surveys[0].update_time_period()\n",
    "\n",
    "print(f\"Run time period: {mt_experiment.surveys[0].stations[0].runs[0].time_period}\")\n",
    "print(f\"Station time period: {mt_experiment.surveys[0].stations[0].time_period}\")\n",
    "print(f\"Survey time period: {mt_experiment.surveys[0].time_period}\")"
   ]
  },
  {
   "cell_type": "code",
   "execution_count": 6,
   "id": "1b5f6aaa-c991-4ab7-9918-e0e40314e9c2",
   "metadata": {},
   "outputs": [
    {
     "data": {
      "text/plain": [
       "[{\n",
       "     \"electric\": {\n",
       "         \"channel_number\": 0,\n",
       "         \"component\": \"ex\",\n",
       "         \"data_quality.rating.value\": 0,\n",
       "         \"dipole_length\": null,\n",
       "         \"filter.applied\": [\n",
       "             false\n",
       "         ],\n",
       "         \"filter.name\": [],\n",
       "         \"measurement_azimuth\": 0.0,\n",
       "         \"measurement_tilt\": 0.0,\n",
       "         \"negative.elevation\": 0.0,\n",
       "         \"negative.id\": null,\n",
       "         \"negative.latitude\": 0.0,\n",
       "         \"negative.longitude\": 0.0,\n",
       "         \"negative.manufacturer\": null,\n",
       "         \"negative.type\": null,\n",
       "         \"positive.elevation\": 0.0,\n",
       "         \"positive.id\": null,\n",
       "         \"positive.latitude\": 0.0,\n",
       "         \"positive.longitude\": 0.0,\n",
       "         \"positive.manufacturer\": null,\n",
       "         \"positive.type\": null,\n",
       "         \"sample_rate\": 0.0,\n",
       "         \"time_period.end\": \"1980-01-01T00:00:00+00:00\",\n",
       "         \"time_period.start\": \"1980-01-01T00:00:00+00:00\",\n",
       "         \"type\": \"electric\",\n",
       "         \"units\": null\n",
       "     }\n",
       " },\n",
       " {\n",
       "     \"electric\": {\n",
       "         \"channel_number\": 0,\n",
       "         \"component\": \"ey\",\n",
       "         \"data_quality.rating.value\": 0,\n",
       "         \"dipole_length\": null,\n",
       "         \"filter.applied\": [\n",
       "             false\n",
       "         ],\n",
       "         \"filter.name\": [],\n",
       "         \"measurement_azimuth\": 0.0,\n",
       "         \"measurement_tilt\": 0.0,\n",
       "         \"negative.elevation\": 0.0,\n",
       "         \"negative.id\": null,\n",
       "         \"negative.latitude\": 0.0,\n",
       "         \"negative.longitude\": 0.0,\n",
       "         \"negative.manufacturer\": null,\n",
       "         \"negative.type\": null,\n",
       "         \"positive.elevation\": 0.0,\n",
       "         \"positive.id\": null,\n",
       "         \"positive.latitude\": 0.0,\n",
       "         \"positive.longitude\": 0.0,\n",
       "         \"positive.manufacturer\": null,\n",
       "         \"positive.type\": null,\n",
       "         \"sample_rate\": 0.0,\n",
       "         \"time_period.end\": \"1980-01-01T00:00:00+00:00\",\n",
       "         \"time_period.start\": \"1980-01-01T00:00:00+00:00\",\n",
       "         \"type\": \"electric\",\n",
       "         \"units\": null\n",
       "     }\n",
       " },\n",
       " {\n",
       "     \"magnetic\": {\n",
       "         \"channel_number\": 0,\n",
       "         \"component\": \"hx\",\n",
       "         \"data_quality.rating.value\": 0,\n",
       "         \"filter.applied\": [\n",
       "             false\n",
       "         ],\n",
       "         \"filter.name\": [],\n",
       "         \"location.elevation\": 0.0,\n",
       "         \"location.latitude\": 0.0,\n",
       "         \"location.longitude\": 0.0,\n",
       "         \"measurement_azimuth\": 0.0,\n",
       "         \"measurement_tilt\": 0.0,\n",
       "         \"sample_rate\": 0.0,\n",
       "         \"sensor.id\": null,\n",
       "         \"sensor.manufacturer\": null,\n",
       "         \"sensor.type\": null,\n",
       "         \"time_period.end\": \"1980-01-01T00:00:00+00:00\",\n",
       "         \"time_period.start\": \"1980-01-01T00:00:00+00:00\",\n",
       "         \"type\": \"magnetic\",\n",
       "         \"units\": null\n",
       "     }\n",
       " },\n",
       " {\n",
       "     \"magnetic\": {\n",
       "         \"channel_number\": 0,\n",
       "         \"component\": \"hy\",\n",
       "         \"data_quality.rating.value\": 0,\n",
       "         \"filter.applied\": [\n",
       "             false\n",
       "         ],\n",
       "         \"filter.name\": [],\n",
       "         \"location.elevation\": 0.0,\n",
       "         \"location.latitude\": 0.0,\n",
       "         \"location.longitude\": 0.0,\n",
       "         \"measurement_azimuth\": 0.0,\n",
       "         \"measurement_tilt\": 0.0,\n",
       "         \"sample_rate\": 0.0,\n",
       "         \"sensor.id\": null,\n",
       "         \"sensor.manufacturer\": null,\n",
       "         \"sensor.type\": null,\n",
       "         \"time_period.end\": \"1980-01-01T00:00:00+00:00\",\n",
       "         \"time_period.start\": \"1980-01-01T00:00:00+00:00\",\n",
       "         \"type\": \"magnetic\",\n",
       "         \"units\": null\n",
       "     }\n",
       " },\n",
       " {\n",
       "     \"magnetic\": {\n",
       "         \"channel_number\": 0,\n",
       "         \"component\": \"hz\",\n",
       "         \"data_quality.rating.value\": 0,\n",
       "         \"filter.applied\": [\n",
       "             false\n",
       "         ],\n",
       "         \"filter.name\": [],\n",
       "         \"location.elevation\": 0.0,\n",
       "         \"location.latitude\": 0.0,\n",
       "         \"location.longitude\": 0.0,\n",
       "         \"measurement_azimuth\": 0.0,\n",
       "         \"measurement_tilt\": 0.0,\n",
       "         \"sample_rate\": 0.0,\n",
       "         \"sensor.id\": null,\n",
       "         \"sensor.manufacturer\": null,\n",
       "         \"sensor.type\": null,\n",
       "         \"time_period.end\": \"1980-01-01T00:00:00+00:00\",\n",
       "         \"time_period.start\": \"1980-01-01T00:00:00+00:00\",\n",
       "         \"type\": \"magnetic\",\n",
       "         \"units\": null\n",
       "     }\n",
       " },\n",
       " {\n",
       "     \"auxiliary\": {\n",
       "         \"channel_number\": 0,\n",
       "         \"component\": \"temperature\",\n",
       "         \"data_quality.rating.value\": 0,\n",
       "         \"filter.applied\": [\n",
       "             false\n",
       "         ],\n",
       "         \"filter.name\": [],\n",
       "         \"location.elevation\": 0.0,\n",
       "         \"location.latitude\": 0.0,\n",
       "         \"location.longitude\": 0.0,\n",
       "         \"measurement_azimuth\": 0.0,\n",
       "         \"measurement_tilt\": 0.0,\n",
       "         \"sample_rate\": 0.0,\n",
       "         \"sensor.id\": null,\n",
       "         \"sensor.manufacturer\": null,\n",
       "         \"sensor.type\": null,\n",
       "         \"time_period.end\": \"1980-01-01T00:00:00+00:00\",\n",
       "         \"time_period.start\": \"1980-01-01T00:00:00+00:00\",\n",
       "         \"type\": null,\n",
       "         \"units\": null\n",
       "     }\n",
       " },\n",
       " {\n",
       "     \"auxiliary\": {\n",
       "         \"channel_number\": 0,\n",
       "         \"component\": \"battery\",\n",
       "         \"data_quality.rating.value\": 0,\n",
       "         \"filter.applied\": [\n",
       "             false\n",
       "         ],\n",
       "         \"filter.name\": [],\n",
       "         \"location.elevation\": 0.0,\n",
       "         \"location.latitude\": 0.0,\n",
       "         \"location.longitude\": 0.0,\n",
       "         \"measurement_azimuth\": 0.0,\n",
       "         \"measurement_tilt\": 0.0,\n",
       "         \"sample_rate\": 0.0,\n",
       "         \"sensor.id\": null,\n",
       "         \"sensor.manufacturer\": null,\n",
       "         \"sensor.type\": null,\n",
       "         \"time_period.end\": \"1980-01-01T00:00:00+00:00\",\n",
       "         \"time_period.start\": \"1980-01-01T00:00:00+00:00\",\n",
       "         \"type\": null,\n",
       "         \"units\": null\n",
       "     }\n",
       " }]"
      ]
     },
     "execution_count": 6,
     "metadata": {},
     "output_type": "execute_result"
    }
   ],
   "source": [
    "mt_experiment.surveys[0].stations[0].runs[0].channels"
   ]
  },
  {
   "cell_type": "code",
   "execution_count": 8,
   "id": "d5897bd2-22e4-48ef-9a9b-8b0c812302a6",
   "metadata": {},
   "outputs": [
    {
     "name": "stdout",
     "output_type": "stream",
     "text": [
      "{\n",
      "    \"survey\": {\n",
      "        \"citation_dataset.doi\": null,\n",
      "        \"citation_journal.doi\": null,\n",
      "        \"country\": null,\n",
      "        \"datum\": \"WGS84\",\n",
      "        \"geographic_name\": null,\n",
      "        \"id\": \"survey_001\",\n",
      "        \"name\": null,\n",
      "        \"northwest_corner.latitude\": 0.0,\n",
      "        \"northwest_corner.longitude\": 0.0,\n",
      "        \"project\": null,\n",
      "        \"project_lead.email\": null,\n",
      "        \"project_lead.organization\": null,\n",
      "        \"release_license\": \"CC-0\",\n",
      "        \"southeast_corner.latitude\": 0.0,\n",
      "        \"southeast_corner.longitude\": 0.0,\n",
      "        \"summary\": null,\n",
      "        \"time_period.end_date\": \"1980-01-01\",\n",
      "        \"time_period.start_date\": \"1980-01-01\"\n",
      "    }\n",
      "}\n"
     ]
    }
   ],
   "source": []
  },
  {
   "cell_type": "code",
   "execution_count": null,
   "id": "07de5060-54aa-4ff0-b25c-5894fbab4a9f",
   "metadata": {},
   "outputs": [],
   "source": []
  }
 ],
 "metadata": {
  "kernelspec": {
   "display_name": "Python 3 (ipykernel)",
   "language": "python",
   "name": "python3"
  },
  "language_info": {
   "codemirror_mode": {
    "name": "ipython",
    "version": 3
   },
   "file_extension": ".py",
   "mimetype": "text/x-python",
   "name": "python",
   "nbconvert_exporter": "python",
   "pygments_lexer": "ipython3",
   "version": "3.7.11"
  }
 },
 "nbformat": 4,
 "nbformat_minor": 5
}
