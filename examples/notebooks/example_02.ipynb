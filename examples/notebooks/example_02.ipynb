{
 "cells": [
  {
   "cell_type": "markdown",
   "id": "2abb5551-4221-42a6-9f9f-28433ba1423e",
   "metadata": {},
   "source": [
    "# Example 02\n",
    "This is the example code from Figure 5 in Peacock, J.R. Kappler, K, Heagy, L., Ronan, T., Kelbert, A., Frassetto, A. (2022) MTH5: an archive and exchangeable data format for magnetotelluric time series data, *Computers & Geoscience*, in review."
   ]
  },
  {
   "cell_type": "code",
   "execution_count": 1,
   "id": "bec332bb-100f-4443-aeec-73f4adbe3e43",
   "metadata": {},
   "outputs": [
    {
     "name": "stdout",
     "output_type": "stream",
     "text": [
      "2022-02-01T16:56:25 [line 157] numexpr.utils._init_num_threads - INFO: NumExpr defaulting to 8 threads.\n"
     ]
    }
   ],
   "source": [
    "from mt_metadata.timeseries import (\n",
    "    Experiment, Survey, Station, Run, Electric, Magnetic, Auxiliary\n",
    ")"
   ]
  },
  {
   "cell_type": "markdown",
   "id": "ef90015b-62f4-40e4-b884-5223a0de0792",
   "metadata": {},
   "source": [
    "**Add Surveys, Station, Runs and Channels to an Experiment** "
   ]
  },
  {
   "cell_type": "code",
   "execution_count": 2,
   "id": "89f3ddd3-1ad6-4b79-97e0-9f6661a022b6",
   "metadata": {},
   "outputs": [
    {
     "data": {
      "text/plain": [
       "Experiment Contents\n",
       "--------------------\n",
       "Number of Surveys: 1\n",
       "\tSurvey ID: survey_001\n",
       "\tNumber of Stations: 1\n",
       "\t--------------------\n",
       "\t\tStation ID: MT001\n",
       "\t\tNumber of Runs: 1\n",
       "\t\t--------------------\n",
       "\t\t\tRun ID: run_001\n",
       "\t\t\tNumber of Channels: 7\n",
       "\t\t\tRecorded Channels: ex, ey, hx, hy, hz, temperature, battery\n",
       "\t\t\tStart: 1980-01-01T00:00:00+00:00\n",
       "\t\t\tEnd:   1980-01-01T00:00:00+00:00\n",
       "\t\t\t--------------------"
      ]
     },
     "execution_count": 2,
     "metadata": {},
     "output_type": "execute_result"
    }
   ],
   "source": [
    "mt_experiment = Experiment()\n",
    "\n",
    "survey_object = Survey(id=f\"survey_001\")\n",
    "station_object = Station(id=f\"MT001\")\n",
    "run_object = Run(id=f\"run_001\")\n",
    "for e_channel in [\"ex\", \"ey\"]:\n",
    "    run_object.channels.append(Electric(component=e_channel))\n",
    "for h_channel in [\"hx\", \"hy\", \"hz\"]: \n",
    "    run_object.channels.append(Magnetic(component=h_channel))\n",
    "for aux_channel in [\"temperature\", \"battery\"]:\n",
    "    run_object.channels.append(Auxiliary(component=aux_channel))\n",
    "    \n",
    "station_object.runs.append(run_object)\n",
    "survey_object.stations.append(station_object)\n",
    "mt_experiment.surveys.append(survey_object)\n",
    "\n",
    "mt_experiment                "
   ]
  },
  {
   "cell_type": "markdown",
   "id": "f500ba73-e816-4c6c-9f21-6c310b6213f5",
   "metadata": {},
   "source": [
    "## Update Start and End Times\n",
    "Here is an example of how to update start and end times."
   ]
  },
  {
   "cell_type": "code",
   "execution_count": 3,
   "id": "cb15f717-4ed7-410b-a7af-b7c12674214d",
   "metadata": {},
   "outputs": [],
   "source": [
    "for ch in mt_experiment.surveys[0].stations[0].runs[0].channels:\n",
    "    ch.time_period.start = \"2020-01-01T12:00:00\"\n",
    "    ch.time_period.end = \"2020-02-14T03:00:00\""
   ]
  },
  {
   "cell_type": "code",
   "execution_count": 4,
   "id": "cad6a9d8-210a-4095-8174-17eff517e7b7",
   "metadata": {},
   "outputs": [],
   "source": [
    "mt_experiment.surveys[0].stations[0].runs[0].update_time_period()\n",
    "mt_experiment.surveys[0].stations[0].update_time_period()\n",
    "mt_experiment.surveys[0].update_time_period()"
   ]
  },
  {
   "cell_type": "code",
   "execution_count": 5,
   "id": "14d2e51b-6c31-4748-aa61-e45ecd4cb12a",
   "metadata": {},
   "outputs": [
    {
     "name": "stdout",
     "output_type": "stream",
     "text": [
      "Run time period: time_period:\n",
      "\tend = 2020-02-14T03:00:00+00:00\n",
      "\tstart = 2020-01-01T12:00:00+00:00\n",
      "Station time period: time_period:\n",
      "\tend = 2020-02-14T03:00:00+00:00\n",
      "\tstart = 2020-01-01T12:00:00+00:00\n",
      "Survey time period: time_period:\n",
      "\tend = 2020-02-14T03:00:00+00:00\n",
      "\tstart = 2020-01-01T12:00:00+00:00\n"
     ]
    }
   ],
   "source": [
    "print(f\"Run time period: {mt_experiment.surveys[0].stations[0].runs[0].time_period}\")\n",
    "print(f\"Station time period: {mt_experiment.surveys[0].stations[0].time_period}\")\n",
    "print(f\"Survey time period: {mt_experiment.surveys[0].time_period}\")"
   ]
  },
  {
   "cell_type": "code",
   "execution_count": 6,
   "id": "e3dad590-1079-4996-96f2-5bc6df36515b",
   "metadata": {},
   "outputs": [
    {
     "data": {
      "text/plain": [
       "[{\n",
       "     \"station\": {\n",
       "         \"channels_recorded\": [],\n",
       "         \"data_type\": \"BBMT\",\n",
       "         \"geographic_name\": null,\n",
       "         \"id\": \"MT001\",\n",
       "         \"location.declination.model\": \"WMM\",\n",
       "         \"location.declination.value\": 0.0,\n",
       "         \"location.elevation\": 0.0,\n",
       "         \"location.latitude\": 0.0,\n",
       "         \"location.longitude\": 0.0,\n",
       "         \"orientation.method\": \"compass\",\n",
       "         \"orientation.reference_frame\": \"geographic\",\n",
       "         \"provenance.creation_time\": \"1980-01-01T00:00:00+00:00\",\n",
       "         \"provenance.software.author\": null,\n",
       "         \"provenance.software.name\": null,\n",
       "         \"provenance.software.version\": null,\n",
       "         \"provenance.submitter.email\": null,\n",
       "         \"provenance.submitter.organization\": null,\n",
       "         \"run_list\": [\n",
       "             \"run_001\"\n",
       "         ],\n",
       "         \"time_period.end\": \"2020-02-14T03:00:00+00:00\",\n",
       "         \"time_period.start\": \"2020-01-01T12:00:00+00:00\"\n",
       "     }\n",
       " }]"
      ]
     },
     "execution_count": 6,
     "metadata": {},
     "output_type": "execute_result"
    }
   ],
   "source": [
    "mt_experiment.surveys[0].stations"
   ]
  },
  {
   "cell_type": "code",
   "execution_count": null,
   "id": "7a1ec627-ab41-48e4-9c32-be87fc95a890",
   "metadata": {},
   "outputs": [],
   "source": []
  }
 ],
 "metadata": {
  "kernelspec": {
   "display_name": "Python 3 (ipykernel)",
   "language": "python",
   "name": "python3"
  },
  "language_info": {
   "codemirror_mode": {
    "name": "ipython",
    "version": 3
   },
   "file_extension": ".py",
   "mimetype": "text/x-python",
   "name": "python",
   "nbconvert_exporter": "python",
   "pygments_lexer": "ipython3",
   "version": "3.7.11"
  }
 },
 "nbformat": 4,
 "nbformat_minor": 5
}
