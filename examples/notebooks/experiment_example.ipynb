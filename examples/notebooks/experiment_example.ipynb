{
 "cells": [
  {
   "cell_type": "code",
   "execution_count": 1,
   "id": "bec332bb-100f-4443-aeec-73f4adbe3e43",
   "metadata": {},
   "outputs": [],
   "source": [
    "from mt_metadata.timeseries import (\n",
    "    Experiment, Survey, Station, Run, Electric, Magnetic, Auxiliary\n",
    ")"
   ]
  },
  {
   "cell_type": "markdown",
   "id": "ef90015b-62f4-40e4-b884-5223a0de0792",
   "metadata": {},
   "source": [
    "**Add Surveys, Station, Runs and Channels to an Experiment** "
   ]
  },
  {
   "cell_type": "code",
   "execution_count": 2,
   "id": "89f3ddd3-1ad6-4b79-97e0-9f6661a022b6",
   "metadata": {},
   "outputs": [
    {
     "data": {
      "text/plain": [
       "Experiment Contents\n",
       "--------------------\n",
       "Number of Surveys: 1\n",
       "\tSurvey ID: survey_001\n",
       "\tNumber of Stations: 1\n",
       "\t--------------------\n",
       "\t\tStation ID: MT001\n",
       "\t\tNumber of Runs: 1\n",
       "\t\t--------------------\n",
       "\t\t\tRun ID: run_001\n",
       "\t\t\tNumber of Channels: 7\n",
       "\t\t\tRecorded Channels: ex, ey, hx, hy, hz, temperature, battery\n",
       "\t\t\tStart: 1980-01-01T00:00:00+00:00\n",
       "\t\t\tEnd:   1980-01-01T00:00:00+00:00\n",
       "\t\t\t--------------------"
      ]
     },
     "execution_count": 2,
     "metadata": {},
     "output_type": "execute_result"
    }
   ],
   "source": [
    "mt_experiment = Experiment()\n",
    "\n",
    "survey_object = Survey(id=f\"survey_001\")\n",
    "station_object = Station(id=f\"MT001\")\n",
    "run_object = Run(id=f\"run_001\")\n",
    "for e_channel in [\"ex\", \"ey\"]:\n",
    "    run_object.channels.append(Electric(component=e_channel))\n",
    "for h_channel in [\"hx\", \"hy\", \"hz\"]: \n",
    "    run_object.channels.append(Magnetic(component=h_channel))\n",
    "for aux_channel in [\"temperature\", \"battery\"]:\n",
    "    run_object.channels.append(Auxiliary(component=aux_channel))\n",
    "    \n",
    "station_object.runs.append(run_object)\n",
    "survey_object.stations.append(station_object)\n",
    "mt_experiment.surveys.append(survey_object)\n",
    "\n",
    "mt_experiment                "
   ]
  },
  {
   "cell_type": "code",
   "execution_count": null,
   "id": "6c3ea35a-3b66-40fb-a8cb-c7db74908ec7",
   "metadata": {},
   "outputs": [],
   "source": []
  }
 ],
 "metadata": {
  "kernelspec": {
   "display_name": "Python 3 (ipykernel)",
   "language": "python",
   "name": "python3"
  },
  "language_info": {
   "codemirror_mode": {
    "name": "ipython",
    "version": 3
   },
   "file_extension": ".py",
   "mimetype": "text/x-python",
   "name": "python",
   "nbconvert_exporter": "python",
   "pygments_lexer": "ipython3",
   "version": "3.9.5"
  }
 },
 "nbformat": 4,
 "nbformat_minor": 5
}
