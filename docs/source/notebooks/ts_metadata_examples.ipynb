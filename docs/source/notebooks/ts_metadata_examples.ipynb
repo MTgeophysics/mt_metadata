{
 "cells": [
  {
   "cell_type": "markdown",
   "id": "a7212ef8-04d2-41ab-8b7e-b477891b4cdb",
   "metadata": {},
   "source": [
    "# Time Series Metadata Examples\n",
    "\n",
    "Metadata can be confusing and a daunting task.  Hopefully `mt_metadata` makes it easier.  Here we will demonstrate some use cases."
   ]
  },
  {
   "cell_type": "code",
   "execution_count": 1,
   "id": "f5304d5c-e26a-49f5-bcc2-ea796f521270",
   "metadata": {},
   "outputs": [],
   "source": [
    "from mt_metadata.timeseries import Electric, Experiment, Magnetic, Run, Station, Survey"
   ]
  },
  {
   "cell_type": "markdown",
   "id": "918474b6-063a-4f9a-b9e9-8d0403b1abd6",
   "metadata": {},
   "source": [
    "## Time Series Metadata as a Single Object\n",
    "\n",
    "`mt_metadata` was written so that all metadata can reside under a single object.  For example, if you have a single station with multiple runs that have multiple channels, you don't want to carry around a single file for each.  Each level of metadata, namely `Experiment`, `Survey`, `Station`, `Run` have convenience objects to contain a collection of the next level down.  For example `Experiment.surveys`, `Survey.stations` or `Station.runs` or `Run.channels`.  This object is a combination of a `List` and `Dictionary`, which allows the user to access items in the collection by index or key word. Each level of metadata also has a `add_`, `get_`, and `remove_` method to add/get/remove an item from the collection. And example below.  "
   ]
  },
  {
   "cell_type": "code",
   "execution_count": 4,
   "id": "d19264e5-3267-49ce-a80a-1f889693bcf2",
   "metadata": {},
   "outputs": [
    {
     "name": "stdout",
     "output_type": "stream",
     "text": [
      "Keys In Order: 01\n"
     ]
    }
   ],
   "source": [
    "experiment = Experiment()\n",
    "survey_01 = Survey(id=\"01\")\n",
    "experiment.add_survey(survey_01)\n",
    "print(experiment.surveys)"
   ]
  },
  {
   "cell_type": "code",
   "execution_count": 5,
   "id": "63d8940f-10e8-46de-8417-39eeb93aa649",
   "metadata": {},
   "outputs": [
    {
     "data": {
      "text/plain": [
       "{\n",
       "    \"survey\": {\n",
       "        \"citation_dataset.doi\": null,\n",
       "        \"citation_journal.doi\": null,\n",
       "        \"country\": null,\n",
       "        \"datum\": \"WGS84\",\n",
       "        \"geographic_name\": null,\n",
       "        \"id\": \"01\",\n",
       "        \"name\": null,\n",
       "        \"northwest_corner.latitude\": 0.0,\n",
       "        \"northwest_corner.longitude\": 0.0,\n",
       "        \"project\": null,\n",
       "        \"project_lead.email\": null,\n",
       "        \"project_lead.organization\": null,\n",
       "        \"release_license\": \"CC-0\",\n",
       "        \"southeast_corner.latitude\": 0.0,\n",
       "        \"southeast_corner.longitude\": 0.0,\n",
       "        \"summary\": null,\n",
       "        \"time_period.end_date\": \"1980-01-01\",\n",
       "        \"time_period.start_date\": \"1980-01-01\"\n",
       "    }\n",
       "}"
      ]
     },
     "execution_count": 5,
     "metadata": {},
     "output_type": "execute_result"
    }
   ],
   "source": [
    "experiment.get_survey(\"01\")"
   ]
  },
  {
   "cell_type": "code",
   "execution_count": 6,
   "id": "398f6513-c24e-435d-b808-1c02cdee6850",
   "metadata": {},
   "outputs": [
    {
     "data": {
      "text/plain": [
       "{\n",
       "    \"survey\": {\n",
       "        \"citation_dataset.doi\": null,\n",
       "        \"citation_journal.doi\": null,\n",
       "        \"country\": null,\n",
       "        \"datum\": \"WGS84\",\n",
       "        \"geographic_name\": null,\n",
       "        \"id\": \"01\",\n",
       "        \"name\": null,\n",
       "        \"northwest_corner.latitude\": 0.0,\n",
       "        \"northwest_corner.longitude\": 0.0,\n",
       "        \"project\": null,\n",
       "        \"project_lead.email\": null,\n",
       "        \"project_lead.organization\": null,\n",
       "        \"release_license\": \"CC-0\",\n",
       "        \"southeast_corner.latitude\": 0.0,\n",
       "        \"southeast_corner.longitude\": 0.0,\n",
       "        \"summary\": null,\n",
       "        \"time_period.end_date\": \"1980-01-01\",\n",
       "        \"time_period.start_date\": \"1980-01-01\"\n",
       "    }\n",
       "}"
      ]
     },
     "execution_count": 6,
     "metadata": {},
     "output_type": "execute_result"
    }
   ],
   "source": [
    "experiment.surveys[0]"
   ]
  },
  {
   "cell_type": "code",
   "execution_count": 7,
   "id": "7ee8da74-aa08-4f7b-b7c9-2282d7a94100",
   "metadata": {},
   "outputs": [
    {
     "data": {
      "text/plain": [
       "{\n",
       "    \"survey\": {\n",
       "        \"citation_dataset.doi\": null,\n",
       "        \"citation_journal.doi\": null,\n",
       "        \"country\": null,\n",
       "        \"datum\": \"WGS84\",\n",
       "        \"geographic_name\": null,\n",
       "        \"id\": \"01\",\n",
       "        \"name\": null,\n",
       "        \"northwest_corner.latitude\": 0.0,\n",
       "        \"northwest_corner.longitude\": 0.0,\n",
       "        \"project\": null,\n",
       "        \"project_lead.email\": null,\n",
       "        \"project_lead.organization\": null,\n",
       "        \"release_license\": \"CC-0\",\n",
       "        \"southeast_corner.latitude\": 0.0,\n",
       "        \"southeast_corner.longitude\": 0.0,\n",
       "        \"summary\": null,\n",
       "        \"time_period.end_date\": \"1980-01-01\",\n",
       "        \"time_period.start_date\": \"1980-01-01\"\n",
       "    }\n",
       "}"
      ]
     },
     "execution_count": 7,
     "metadata": {},
     "output_type": "execute_result"
    }
   ],
   "source": [
    "experiment.surveys[\"01\"]"
   ]
  },
  {
   "cell_type": "markdown",
   "id": "c54e3a7a-7e88-4007-b974-59859cd21bfd",
   "metadata": {},
   "source": [
    "## From Field Notes\n",
    "\n",
    "Field notes are important but can be a pain to keep track of, whether they are written in notebooks, kept on tablets, or in various formats.  Say you have a spreadsheet of field notes and now you'd like to make some metadata objects."
   ]
  },
  {
   "cell_type": "code",
   "execution_count": null,
   "id": "a28e037c-61dc-4fcd-a144-ee7e8197f549",
   "metadata": {},
   "outputs": [],
   "source": [
    "#TODO"
   ]
  }
 ],
 "metadata": {
  "kernelspec": {
   "display_name": "Python 3 (ipykernel)",
   "language": "python",
   "name": "python3"
  },
  "language_info": {
   "codemirror_mode": {
    "name": "ipython",
    "version": 3
   },
   "file_extension": ".py",
   "mimetype": "text/x-python",
   "name": "python",
   "nbconvert_exporter": "python",
   "pygments_lexer": "ipython3",
   "version": "3.8.13"
  }
 },
 "nbformat": 4,
 "nbformat_minor": 5
}
