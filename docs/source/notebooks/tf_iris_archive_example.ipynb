{
 "cells": [
  {
   "cell_type": "markdown",
   "id": "2e64938a-fec8-4403-adf8-57333beec991",
   "metadata": {},
   "source": [
    "# Archive at IRIS SPUD EMTF\n",
    "\n",
    "With FAIR data principles and requirements for data to be public archiving has become another task for publication.  MT transfer functions can be archived at the [IRIS SPUD EMTF](http://www.ds.iris.edu/spud/emtf), which provides a web service to query for available data.  Anna Kelbert is the gatekeeper to archive transfer functions and early on was tasked with developing an XML standard for MT transfer functions.  That format (EMTFXML) is published [here](https://doi.org/10.1190/geo2018-0679.1).  XML can be complicated to read and format correctly especially of there is not a schema to validate with.  Luckily MT-Metadata has tools to convert transfer functions to the EMTFXML format.  Alternatively you may use Anna Kelbert's Fortran codes found [here](https://seiscode.iris.washington.edu/projects/emtf-fcu.).\n",
    "\n",
    "Below are a few examples of converting transfer functions to the EMTFXML format."
   ]
  },
  {
   "cell_type": "markdown",
   "id": "e50545a0-99c0-418e-b08c-25e159ea4ad5",
   "metadata": {},
   "source": [
    "## EDI to XML\n",
    "\n",
    "Probably the most common format of MT transfer functions is the EDI format.  This was developed in the 1980's and has been a staple since due to its flexibility and readability.  However, the flexibility lends itself to be difficult to read in a standard way.  MT-Metadata supports various flavors of EDI files, probably not all so if you find one that doesn't read in properly raise an issue [here](https://github.com/kujaku11/mt_metadata/issues) with a label `transfer function`."
   ]
  },
  {
   "cell_type": "code",
   "execution_count": 1,
   "id": "66324fa9-7916-4624-925b-e29e1ae474b4",
   "metadata": {},
   "outputs": [],
   "source": [
    "from mt_metadata import TF_EDI_RHO_ONLY\n",
    "from mt_metadata.transfer_functions import TF"
   ]
  },
  {
   "cell_type": "markdown",
   "id": "9340d947-dbd2-4066-b753-bcebcf06d8f0",
   "metadata": {},
   "source": [
    "### Read in the Transfer Function File\n",
    "\n",
    "First, read in the transfer function file.  Here we are reading it into the generic `TF` object.  The `TF` object contains similar metadata to time series data with the addition of a few things like how the transfer function was created.\n",
    "\n",
    "The file we are reading is bare-bones and only contains resistivity and phase data for the off-diagonal components.  Therefore, we are going to need to add a lot of metadata to make it compliant with EMTFXML."
   ]
  },
  {
   "cell_type": "code",
   "execution_count": 2,
   "id": "2cb0847e-3d80-43ce-95a1-4ca6a11cd437",
   "metadata": {},
   "outputs": [
    {
     "name": "stderr",
     "output_type": "stream",
     "text": [
      "2023-03-16 15:15:35,386 [line 379] mt_metadata.utils.mttime.MTime.from_str - ERROR: String does not contain a date: Input must be a valid datetime string, see https://docs.python.org/3.8/library/datetime.html\n"
     ]
    }
   ],
   "source": [
    "tf_object = TF(TF_EDI_RHO_ONLY)\n",
    "tf_object.read()"
   ]
  },
  {
   "cell_type": "markdown",
   "id": "3cda5595-c153-463f-b9c1-7e9cbbfe9b94",
   "metadata": {},
   "source": [
    "At this point we can do one of two things, \n",
    "\n",
    "1. Fill in metadata into the `TF` object then write (maybe more intuitive if you have the time series metadata)\n",
    "2. Convert to an `EMTFXML` object and fill in metadata directly (maybe faster if you are just filling in metadata from scratch)"
   ]
  },
  {
   "cell_type": "markdown",
   "id": "533414bc-c6fb-4b5f-98e5-eb3631fed9d5",
   "metadata": {},
   "source": [
    "### Fill in Metadata\n",
    "\n",
    "Before you start filling out fields, you should probably know what fields are there and what they mean.  Lets have a look at the fields"
   ]
  },
  {
   "cell_type": "code",
   "execution_count": 3,
   "id": "5464bc3a-b076-4569-8733-aace1a00fefc",
   "metadata": {},
   "outputs": [],
   "source": [
    "xml_object = tf_object.to_emtfxml()"
   ]
  },
  {
   "cell_type": "markdown",
   "id": "a0f27ca0-3228-4cfd-93a1-a10d26724b45",
   "metadata": {},
   "source": [
    "#### Sections of an EMTFXML\n",
    "\n",
    "Here are the key sections in an EMTFXML file, in order.  Note the names are put into lower case for easier typing, in the XML file these will be Capital Case.  `product_id` -> `ProductId`"
   ]
  },
  {
   "cell_type": "code",
   "execution_count": 4,
   "id": "8d244891-ea80-4535-a298-1a108f688c6b",
   "metadata": {},
   "outputs": [
    {
     "name": "stdout",
     "output_type": "stream",
     "text": [
      "description\n",
      "product_id\n",
      "sub_type\n",
      "notes\n",
      "tags\n",
      "external_url\n",
      "primary_data\n",
      "attachment\n",
      "provenance\n",
      "copyright\n",
      "site\n",
      "field_notes\n",
      "processing_info\n",
      "statistical_estimates\n",
      "data_types\n",
      "site_layout\n",
      "data\n",
      "period_range\n"
     ]
    }
   ],
   "source": [
    "for section in xml_object.element_keys:\n",
    "    print(section)"
   ]
  },
  {
   "cell_type": "markdown",
   "id": "1e1ac971-f796-4fab-9106-b03d0f619dec",
   "metadata": {},
   "source": [
    "#### Getting help with attributes of each section"
   ]
  },
  {
   "cell_type": "code",
   "execution_count": 5,
   "id": "75de72be-e34d-427f-b537-7eb4af70d0a2",
   "metadata": {
    "collapsed": true,
    "jupyter": {
     "outputs_hidden": true
    },
    "tags": []
   },
   "outputs": [
    {
     "name": "stdout",
     "output_type": "stream",
     "text": [
      "Help on Copyright in module mt_metadata.transfer_functions.io.emtfxml.metadata.copyright object:\n",
      "\n",
      "class Copyright(mt_metadata.base.metadata.Base)\n",
      " |  Copyright(**kwargs)\n",
      " |  \n",
      " |  +----------------------------------------------+-----------------------------------------------+----------------+\n",
      " |  | **Metadata Key**                             | **Description**                               | **Example**    |\n",
      " |  +==============================================+===============================================+================+\n",
      " |  | **release_status**                           | the release status of the data                | Unrestricted   |\n",
      " |  |                                              |                                               | release        |\n",
      " |  | Required: True                               |                                               |                |\n",
      " |  |                                              |                                               |                |\n",
      " |  | Units: None                                  |                                               |                |\n",
      " |  |                                              |                                               |                |\n",
      " |  | Type: string                                 |                                               |                |\n",
      " |  |                                              |                                               |                |\n",
      " |  | Style: controlled vocabulary                 |                                               |                |\n",
      " |  |                                              |                                               |                |\n",
      " |  | Default: Unrestricted Release                |                                               |                |\n",
      " |  +----------------------------------------------+-----------------------------------------------+----------------+\n",
      " |  | **conditions_of_use**                        | Any notes on conditions of use                | Cite data upon |\n",
      " |  |                                              |                                               | usage.         |\n",
      " |  | Required: True                               |                                               |                |\n",
      " |  |                                              |                                               |                |\n",
      " |  | Units: None                                  |                                               |                |\n",
      " |  |                                              |                                               |                |\n",
      " |  | Type: string                                 |                                               |                |\n",
      " |  |                                              |                                               |                |\n",
      " |  | Style: free form                             |                                               |                |\n",
      " |  |                                              |                                               |                |\n",
      " |  | Default: All data and metadata for this survey are available free of charge and may be copied freely, duplicated and further distributed provided this data set is cited as the reference. While the author(s) strive to provide data and metadata of best possible quality, neither the author(s) of this data set, not IRIS make any claims, promises, or guarantees about the accuracy, completeness, or adequacy of this information, and expressly disclaim liability for errors and omissions in the contents of this file. Guidelines about the quality or limitations of the data and metadata, as obtained from the author(s), are included for informational purposes only.|                                               |                |\n",
      " |  +----------------------------------------------+-----------------------------------------------+----------------+\n",
      " |  | **acknowledgement**                          | any acknowledgments the transfer function     | This project   |\n",
      " |  |                                              | should have.                                  | was funded by  |\n",
      " |  | Required: False                              |                                               | x.             |\n",
      " |  |                                              |                                               |                |\n",
      " |  | Units: None                                  |                                               |                |\n",
      " |  |                                              |                                               |                |\n",
      " |  | Type: string                                 |                                               |                |\n",
      " |  |                                              |                                               |                |\n",
      " |  | Style: free form                             |                                               |                |\n",
      " |  |                                              |                                               |                |\n",
      " |  | Default: None                                |                                               |                |\n",
      " |  +----------------------------------------------+-----------------------------------------------+----------------+\n",
      " |  | **citation.title**                           | Full title of the citation                    | Paper Title    |\n",
      " |  |                                              |                                               |                |\n",
      " |  | Required: False                              |                                               |                |\n",
      " |  |                                              |                                               |                |\n",
      " |  | Units: None                                  |                                               |                |\n",
      " |  |                                              |                                               |                |\n",
      " |  | Type: string                                 |                                               |                |\n",
      " |  |                                              |                                               |                |\n",
      " |  | Style: free form                             |                                               |                |\n",
      " |  |                                              |                                               |                |\n",
      " |  | Default: None                                |                                               |                |\n",
      " |  +----------------------------------------------+-----------------------------------------------+----------------+\n",
      " |  | **citation.authors**                         | author names                                  | M.Tee A. Roura |\n",
      " |  |                                              |                                               |                |\n",
      " |  | Required: False                              |                                               |                |\n",
      " |  |                                              |                                               |                |\n",
      " |  | Units: None                                  |                                               |                |\n",
      " |  |                                              |                                               |                |\n",
      " |  | Type: string                                 |                                               |                |\n",
      " |  |                                              |                                               |                |\n",
      " |  | Style: free form                             |                                               |                |\n",
      " |  |                                              |                                               |                |\n",
      " |  | Default: None                                |                                               |                |\n",
      " |  +----------------------------------------------+-----------------------------------------------+----------------+\n",
      " |  | **citation.year**                            | Year of citation                              | 2020           |\n",
      " |  |                                              |                                               |                |\n",
      " |  | Required: False                              |                                               |                |\n",
      " |  |                                              |                                               |                |\n",
      " |  | Units: None                                  |                                               |                |\n",
      " |  |                                              |                                               |                |\n",
      " |  | Type: string                                 |                                               |                |\n",
      " |  |                                              |                                               |                |\n",
      " |  | Style: date                                  |                                               |                |\n",
      " |  |                                              |                                               |                |\n",
      " |  | Default: 1980-01-01T00:00:00+00:00           |                                               |                |\n",
      " |  +----------------------------------------------+-----------------------------------------------+----------------+\n",
      " |  | **citation.volume**                          | Journal volume of the citation                | 12             |\n",
      " |  |                                              |                                               |                |\n",
      " |  | Required: False                              |                                               |                |\n",
      " |  |                                              |                                               |                |\n",
      " |  | Units: None                                  |                                               |                |\n",
      " |  |                                              |                                               |                |\n",
      " |  | Type: string                                 |                                               |                |\n",
      " |  |                                              |                                               |                |\n",
      " |  | Style: free form                             |                                               |                |\n",
      " |  |                                              |                                               |                |\n",
      " |  | Default: None                                |                                               |                |\n",
      " |  +----------------------------------------------+-----------------------------------------------+----------------+\n",
      " |  | **citation.pages**                           | Page numbers of the citation                  | 10-15          |\n",
      " |  |                                              |                                               |                |\n",
      " |  | Required: False                              |                                               |                |\n",
      " |  |                                              |                                               |                |\n",
      " |  | Units: None                                  |                                               |                |\n",
      " |  |                                              |                                               |                |\n",
      " |  | Type: string                                 |                                               |                |\n",
      " |  |                                              |                                               |                |\n",
      " |  | Style: free form                             |                                               |                |\n",
      " |  |                                              |                                               |                |\n",
      " |  | Default: None                                |                                               |                |\n",
      " |  +----------------------------------------------+-----------------------------------------------+----------------+\n",
      " |  | **citation.journal**                         | Journal title of citation                     | Journal of     |\n",
      " |  |                                              |                                               | Geophysical    |\n",
      " |  | Required: False                              |                                               | Research       |\n",
      " |  |                                              |                                               |                |\n",
      " |  | Units: None                                  |                                               |                |\n",
      " |  |                                              |                                               |                |\n",
      " |  | Type: string                                 |                                               |                |\n",
      " |  |                                              |                                               |                |\n",
      " |  | Style: free form                             |                                               |                |\n",
      " |  |                                              |                                               |                |\n",
      " |  | Default: None                                |                                               |                |\n",
      " |  +----------------------------------------------+-----------------------------------------------+----------------+\n",
      " |  | **citation.doi**                             | doi number of the citation                    | ###/###        |\n",
      " |  |                                              |                                               |                |\n",
      " |  | Required: False                              |                                               |                |\n",
      " |  |                                              |                                               |                |\n",
      " |  | Units: None                                  |                                               |                |\n",
      " |  |                                              |                                               |                |\n",
      " |  | Type: string                                 |                                               |                |\n",
      " |  |                                              |                                               |                |\n",
      " |  | Style: url                                   |                                               |                |\n",
      " |  |                                              |                                               |                |\n",
      " |  | Default: None                                |                                               |                |\n",
      " |  +----------------------------------------------+-----------------------------------------------+----------------+\n",
      " |  | **citation.survey_d_o_i**                    | doi number of the survey                      | ###/###        |\n",
      " |  |                                              |                                               |                |\n",
      " |  | Required: False                              |                                               |                |\n",
      " |  |                                              |                                               |                |\n",
      " |  | Units: None                                  |                                               |                |\n",
      " |  |                                              |                                               |                |\n",
      " |  | Type: string                                 |                                               |                |\n",
      " |  |                                              |                                               |                |\n",
      " |  | Style: url                                   |                                               |                |\n",
      " |  |                                              |                                               |                |\n",
      " |  | Default: None                                |                                               |                |\n",
      " |  +----------------------------------------------+-----------------------------------------------+----------------+\n",
      " |  \n",
      " |  Method resolution order:\n",
      " |      Copyright\n",
      " |      mt_metadata.base.metadata.Base\n",
      " |      builtins.object\n",
      " |  \n",
      " |  Methods defined here:\n",
      " |  \n",
      " |  __init__(self, **kwargs)\n",
      " |      Initialize self.  See help(type(self)) for accurate signature.\n",
      " |  \n",
      " |  read_dict(self, input_dict)\n",
      " |      :param input_dict: DESCRIPTION\n",
      " |      :type input_dict: TYPE\n",
      " |      :return: DESCRIPTION\n",
      " |      :rtype: TYPE\n",
      " |  \n",
      " |  to_xml(self, string=False, required=True)\n",
      " |  \n",
      " |  ----------------------------------------------------------------------\n",
      " |  Methods inherited from mt_metadata.base.metadata.Base:\n",
      " |  \n",
      " |  __deepcopy__(self, memodict={})\n",
      " |      Need to skip copying the logger\n",
      " |      need to copy properties as well.\n",
      " |      \n",
      " |      :return: DESCRIPTION\n",
      " |      :rtype: TYPE\n",
      " |  \n",
      " |  __eq__(self, other)\n",
      " |      Return self==value.\n",
      " |  \n",
      " |  __len__(self)\n",
      " |  \n",
      " |  __ne__(self, other)\n",
      " |      Return self!=value.\n",
      " |  \n",
      " |  __repr__(self)\n",
      " |      Return repr(self).\n",
      " |  \n",
      " |  __setattr__(self, name, value)\n",
      " |      set attribute based on metadata standards\n",
      " |      \n",
      " |      Something here doesnt allow other objects to be set as attributes\n",
      " |  \n",
      " |  __str__(self)\n",
      " |      Return str(self).\n",
      " |  \n",
      " |  add_base_attribute(self, name, value, value_dict)\n",
      " |      Add an attribute to _attr_dict so it will be included in the\n",
      " |      output dictionary\n",
      " |      \n",
      " |      :param name: name of attribute\n",
      " |      :type name: string\n",
      " |      \n",
      " |      :param value: value of the new attribute\n",
      " |      :type value: described in value_dict\n",
      " |      \n",
      " |      :param value_dict: dictionary describing the attribute, must have keys\n",
      " |          ['type', 'required', 'style', 'units', 'alias', 'description',\n",
      " |           'options', 'example']\n",
      " |      :type name: string\n",
      " |      \n",
      " |      * type --> the data type [ str | int | float | bool ]\n",
      " |      * required --> required in the standards [ True | False ]\n",
      " |      * style --> style of the string\n",
      " |      * units --> units of the attribute, must be a string\n",
      " |      * alias --> other possible names for the attribute\n",
      " |      * options --> if only a few options are accepted, separated by | or\n",
      " |        comma.b [ option_01 | option_02 | other ]. 'other' means other options\n",
      " |        available but not yet defined.\n",
      " |      * example --> an example of the attribute\n",
      " |      \n",
      " |      :Example:\n",
      " |      \n",
      " |      >>> extra = {'type': str,\n",
      " |      >>> ...      'style': 'controlled vocabulary',\n",
      " |      >>> ...      'required': False,\n",
      " |      >>> ...      'units': celsius,\n",
      " |      >>> ...      'description': 'local temperature',\n",
      " |      >>> ...      'alias': ['temp'],\n",
      " |      >>> ...      'options': [ 'ambient', 'air', 'other'],\n",
      " |      >>> ...      'example': 'ambient'}\n",
      " |      >>> r = Run()\n",
      " |      >>> r.add_base_attribute('temperature', 'ambient', extra)\n",
      " |  \n",
      " |  attribute_information(self, name=None)\n",
      " |      return a descriptive string of the attribute if none returns for all\n",
      " |      \n",
      " |      :param key: DESCRIPTION, defaults to None\n",
      " |      :type key: TYPE, optional\n",
      " |      :return: DESCRIPTION\n",
      " |      :rtype: TYPE\n",
      " |  \n",
      " |  copy(self)\n",
      " |      Copy object\n",
      " |  \n",
      " |  from_dict(self, meta_dict, skip_none=False)\n",
      " |      fill attributes from a dictionary\n",
      " |      \n",
      " |      :param meta_dict: dictionary with keys equal to metadata.\n",
      " |      :type meta_dict: dictionary\n",
      " |  \n",
      " |  from_json(self, json_str)\n",
      " |      read in a json string and update attributes of an object\n",
      " |      \n",
      " |      :param json_str: json string or file path\n",
      " |      :type json_str: string or :class:`pathlib.Path`\n",
      " |  \n",
      " |  from_series(self, pd_series)\n",
      " |      Fill attributes from a Pandas series\n",
      " |      \n",
      " |      .. note:: Currently, the series must be single layered with key names\n",
      " |                separated by dots. (location.latitude)\n",
      " |      \n",
      " |      :param pd_series: Series containing metadata information\n",
      " |      :type pd_series: pandas.Series\n",
      " |      \n",
      " |      ..todo:: Force types in series\n",
      " |  \n",
      " |  from_xml(self, xml_element)\n",
      " |      :param xml_element: XML element\n",
      " |      :type xml_element: etree.Element\n",
      " |      \n",
      " |      :return: Fills attributes accordingly\n",
      " |  \n",
      " |  get_attr_from_name(self, name)\n",
      " |      Access attribute from the given name.\n",
      " |      \n",
      " |      The name can contain the name of an object which must be separated\n",
      " |      by a '.' for  e.g. {object_name}.{name} --> location.latitude\n",
      " |      \n",
      " |      ..note:: this is a helper function for names with '.' in the name for\n",
      " |               easier getting when reading from dictionary.\n",
      " |      \n",
      " |      :param name: name of attribute to get.\n",
      " |      :type name: string\n",
      " |      :return: attribute value\n",
      " |      :rtype: type is defined by the attribute name\n",
      " |      \n",
      " |      :Example:\n",
      " |      \n",
      " |      >>> b = Base(**{'category.test_attr':10})\n",
      " |      >>> b.get_attr_from_name('category.test_attr')\n",
      " |      10\n",
      " |  \n",
      " |  get_attribute_list(self)\n",
      " |      return a list of the attributes\n",
      " |  \n",
      " |  set_attr_from_name(self, name, value)\n",
      " |      Helper function to set attribute from the given name.\n",
      " |      \n",
      " |      The name can contain the name of an object which must be separated\n",
      " |      by a '.' for  e.g. {object_name}.{name} --> location.latitude\n",
      " |      \n",
      " |      ..note:: this is a helper function for names with '.' in the name for\n",
      " |               easier getting when reading from dictionary.\n",
      " |      \n",
      " |      :param name: name of attribute to get.\n",
      " |      :type name: string\n",
      " |      :param value: attribute value\n",
      " |      :type value: type is defined by the attribute name\n",
      " |      \n",
      " |      :Example:\n",
      " |      \n",
      " |      >>> b = Base(**{'category.test_attr':10})\n",
      " |      >>> b.set_attr_from_name('category.test_attr', '10')\n",
      " |      >>> print(b.category.test_attr)\n",
      " |      '10'\n",
      " |  \n",
      " |  to_dict(self, nested=False, single=False, required=True)\n",
      " |      make a dictionary from attributes, makes dictionary from _attr_list.\n",
      " |      \n",
      " |      :param nested: make the returned dictionary nested\n",
      " |      :type nested: [ True | False ] , default is False\n",
      " |      \n",
      " |      :param single: return just metadata dictionary -> meta_dict[class_name]\n",
      " |      :type single: [ True | False ], default is False\n",
      " |      \n",
      " |      :param required: return just the required elements and any elements with\n",
      " |                       non-None values\n",
      " |  \n",
      " |  to_json(self, nested=False, indent='    ', required=True)\n",
      " |      Write a json string from a given object, taking into account other\n",
      " |      class objects contained within the given object.\n",
      " |      \n",
      " |      :param nested: make the returned json nested\n",
      " |      :type nested: [ True | False ] , default is False\n",
      " |  \n",
      " |  to_series(self, required=True)\n",
      " |      Convert attribute list to a pandas.Series\n",
      " |      \n",
      " |      .. note:: this is a flattened version of the metadata\n",
      " |      \n",
      " |      :return: pandas.Series\n",
      " |      :rtype: pandas.Series\n",
      " |  \n",
      " |  update(self, other, match=[])\n",
      " |      Update attribute values from another like element, skipping None\n",
      " |      \n",
      " |      :param other: DESCRIPTION\n",
      " |      :type other: TYPE\n",
      " |      :return: DESCRIPTION\n",
      " |      :rtype: TYPE\n",
      " |  \n",
      " |  ----------------------------------------------------------------------\n",
      " |  Data descriptors inherited from mt_metadata.base.metadata.Base:\n",
      " |  \n",
      " |  __dict__\n",
      " |      dictionary for instance variables (if defined)\n",
      " |  \n",
      " |  __weakref__\n",
      " |      list of weak references to the object (if defined)\n",
      " |  \n",
      " |  changed\n",
      " |  \n",
      " |  ----------------------------------------------------------------------\n",
      " |  Data and other attributes inherited from mt_metadata.base.metadata.Base:\n",
      " |  \n",
      " |  __hash__ = None\n",
      "\n"
     ]
    }
   ],
   "source": [
    "help(xml_object.copyright)"
   ]
  },
  {
   "cell_type": "markdown",
   "id": "4178b17d-cd5a-4211-a1bb-e26d4379bddf",
   "metadata": {},
   "source": [
    "#### Alternatively using print\n",
    "\n",
    "If you just want to know what the element looks like in XML, you can use the print statement and `to_xml` method"
   ]
  },
  {
   "cell_type": "code",
   "execution_count": 6,
   "id": "1ca35b21-3b57-4d4f-99bb-a51af88eeb46",
   "metadata": {},
   "outputs": [
    {
     "name": "stdout",
     "output_type": "stream",
     "text": [
      "<?xml version=\"1.0\" encoding=\"UTF-8\"?>\n",
      "<Attachment>\n",
      "    <Filename/>\n",
      "    <Description/>\n",
      "</Attachment>\n",
      "\n"
     ]
    }
   ],
   "source": [
    "print(xml_object.attachment.to_xml(string=True))"
   ]
  },
  {
   "cell_type": "markdown",
   "id": "115c89c8-fe1f-4538-8544-9f71a154a505",
   "metadata": {},
   "source": [
    "## 1. Description\n",
    "\n",
    "`Description` is a few words about what is included in the file.  For MT transfer functions this will almost always be `Magnetotelluric Transfer Functions`, which is the default value. "
   ]
  },
  {
   "cell_type": "code",
   "execution_count": 7,
   "id": "f2f9b15e-ea5f-471b-a1a5-25df777d6155",
   "metadata": {},
   "outputs": [
    {
     "data": {
      "text/plain": [
       "'Magnetotelluric Transfer Functions'"
      ]
     },
     "execution_count": 7,
     "metadata": {},
     "output_type": "execute_result"
    }
   ],
   "source": [
    "xml_object.description"
   ]
  },
  {
   "cell_type": "markdown",
   "id": "46b07214-2ed2-4a73-b148-a251abd3d338",
   "metadata": {},
   "source": [
    "## 2. ProductID\n",
    "\n",
    "The Product ID provides a unique identifier to the transfer function, whilst including the survey, project, and station name. The format should be `{project}.{station_id}.{year}` for example data collected by a group at the USGS for station MT01 in 2020 would be `USGS.MT01.2020`.  "
   ]
  },
  {
   "cell_type": "code",
   "execution_count": 8,
   "id": "d3aff9eb-0981-49eb-926c-40ebdfceec28",
   "metadata": {},
   "outputs": [
    {
     "data": {
      "text/plain": [
       "'None.s08.2020'"
      ]
     },
     "execution_count": 8,
     "metadata": {},
     "output_type": "execute_result"
    }
   ],
   "source": [
    "xml_object.product_id"
   ]
  },
  {
   "cell_type": "code",
   "execution_count": 9,
   "id": "330ca134-ac14-4f56-a7f3-93eb52c8f341",
   "metadata": {},
   "outputs": [],
   "source": [
    "xml_object.product_id = \"USGS.MT01.2020\""
   ]
  },
  {
   "cell_type": "markdown",
   "id": "48e2b345-c314-45d2-a07d-de610db8e741",
   "metadata": {},
   "source": [
    "## 3. SubType\n",
    "\n",
    "`SubType` provides a secondary keyword for the what the file includes.  This will almost always be `MT_TF`, which is the default value"
   ]
  },
  {
   "cell_type": "code",
   "execution_count": 10,
   "id": "74e1a097-7345-494e-98a0-1ed7ca0cb7f2",
   "metadata": {},
   "outputs": [],
   "source": [
    "xml_object.sub_type = \"MT_TF\""
   ]
  },
  {
   "cell_type": "markdown",
   "id": "5f1a15df-cfea-4ab1-9901-fe0868eabe38",
   "metadata": {},
   "source": [
    "## 4. Notes\n",
    "\n",
    "`Notes` allows for any free text notes about the file. "
   ]
  },
  {
   "cell_type": "code",
   "execution_count": 11,
   "id": "376e2cb0-454c-44dd-ae0b-92c505ebcc74",
   "metadata": {},
   "outputs": [],
   "source": [
    "xml_object.notes = \"This is an example note\""
   ]
  },
  {
   "cell_type": "markdown",
   "id": "11028ab2-8d50-4747-b9f5-6901c366198a",
   "metadata": {},
   "source": [
    "## 5. Tags\n",
    "\n",
    "`Tags` provides tags for what type of transfer functions are included in the file.  Options are \n",
    "\n",
    "- impedance\n",
    "- tipper\n",
    "\n",
    "Note that tags are automatically updated when `write` is called depending on the type of data the `EMTFXML` object contains."
   ]
  },
  {
   "cell_type": "code",
   "execution_count": 12,
   "id": "7ca2beb5-f368-460d-82b6-ac74976a8939",
   "metadata": {},
   "outputs": [
    {
     "data": {
      "text/plain": [
       "'impedance'"
      ]
     },
     "execution_count": 12,
     "metadata": {},
     "output_type": "execute_result"
    }
   ],
   "source": [
    "xml_object.tags"
   ]
  },
  {
   "cell_type": "markdown",
   "id": "d0f4b598-c22c-49b3-9873-5c80f3a2d069",
   "metadata": {
    "tags": []
   },
   "source": [
    "## 6. ExternalUrl\n",
    "\n",
    "`ExternalUrl` describes a URL that is not contained within the IRIS archive, or a URL that the data is related to that is not within the IRIS archive.  For example if the time series is archived in a different place a link to that URL would be placed here. \n",
    "\n",
    "It contains attributes\n",
    "\n",
    "- **description**: A description of where and what the URL points to\n",
    "- **url**: the actual URL link"
   ]
  },
  {
   "cell_type": "code",
   "execution_count": 17,
   "id": "b0d89ac9-862b-422a-9c24-2371d4213ac4",
   "metadata": {},
   "outputs": [
    {
     "data": {
      "text/plain": [
       "{\n",
       "    \"external_url\": {\n",
       "        \"description\": null,\n",
       "        \"url\": null\n",
       "    }\n",
       "}"
      ]
     },
     "execution_count": 17,
     "metadata": {},
     "output_type": "execute_result"
    }
   ],
   "source": [
    "xml_object.external_url"
   ]
  },
  {
   "cell_type": "code",
   "execution_count": 18,
   "id": "08dc46a9-87d9-4525-afe3-6647332d9f23",
   "metadata": {},
   "outputs": [],
   "source": [
    "xml_object.external_url.description = \"This is a fake link to non existing time series data.\"\n",
    "xml_object.external_url.url = \"fake.data.test\""
   ]
  },
  {
   "cell_type": "markdown",
   "id": "6e1c0a54-6335-4dce-b04c-b9a6eba62e5f",
   "metadata": {},
   "source": [
    "## 7. Primary Data\n",
    "\n",
    "Primary data describes an image of the transfer function that is archived along side the transfer function. It has a single attribute\n",
    "\n",
    "- **filename**: file name of the image file \n",
    "  - *should be a .png file for easier storage and viewing*\n",
    "  - *should be named {station_id}.png*"
   ]
  },
  {
   "cell_type": "code",
   "execution_count": 19,
   "id": "58141b82-dc44-4544-a10b-bc35031d8d5c",
   "metadata": {},
   "outputs": [],
   "source": [
    "xml_object.primary_data.filename = \"s08.png\""
   ]
  },
  {
   "cell_type": "markdown",
   "id": "0c7378cf-90d2-4f17-b624-675ce8f1cb01",
   "metadata": {},
   "source": [
    "## 8. Attachment\n",
    "\n",
    "Describes any attachments archived with the XML file.  For example it is good practice to archive the original file along with the XML. In this example it would be the original EDI file. Attachment has two attributes\n",
    "\n"
   ]
  },
  {
   "cell_type": "code",
   "execution_count": 20,
   "id": "6edb0b91-67f6-4938-9ea3-6544783b63e4",
   "metadata": {},
   "outputs": [
    {
     "data": {
      "text/plain": [
       "{\n",
       "    \"attachment\": {\n",
       "        \"description\": null,\n",
       "        \"filename\": null\n",
       "    }\n",
       "}"
      ]
     },
     "execution_count": 20,
     "metadata": {},
     "output_type": "execute_result"
    }
   ],
   "source": [
    "xml_object.attachment"
   ]
  },
  {
   "cell_type": "code",
   "execution_count": null,
   "id": "6f51c0ef-d060-4fc8-88fd-1f3aad3a512d",
   "metadata": {},
   "outputs": [],
   "source": []
  }
 ],
 "metadata": {
  "kernelspec": {
   "display_name": "Python 3 (ipykernel)",
   "language": "python",
   "name": "python3"
  },
  "language_info": {
   "codemirror_mode": {
    "name": "ipython",
    "version": 3
   },
   "file_extension": ".py",
   "mimetype": "text/x-python",
   "name": "python",
   "nbconvert_exporter": "python",
   "pygments_lexer": "ipython3",
   "version": "3.8.13"
  }
 },
 "nbformat": 4,
 "nbformat_minor": 5
}
