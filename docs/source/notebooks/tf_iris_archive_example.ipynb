{
 "cells": [
  {
   "cell_type": "markdown",
   "id": "2e64938a-fec8-4403-adf8-57333beec991",
   "metadata": {},
   "source": [
    "# Archive at IRIS SPUD EMTF\n",
    "\n",
    "With FAIR data principles and requirements for data to be public archiving has become another task for publication.  MT transfer functions can be archived at the [IRIS SPUD EMTF](http://www.ds.iris.edu/spud/emtf), which provides a web service to query for available data.  Anna Kelbert is the gatekeeper to archive transfer functions and early on was tasked with developing an XML standard for MT transfer functions.  That format (EMTFXML) is published [here](https://doi.org/10.1190/geo2018-0679.1).  XML can be complicated to read and format correctly especially of there is not a schema to validate with.  Luckily mt_metadata has tools to convert transfer functions to the EMTFXML format.  Alternatively you may use Anna Kelbert's Fortran codes found [here](https://seiscode.iris.washington.edu/projects/emtf-fcu.).\n",
    "\n",
    "Below are a few examples of converting transfer functions to the EMTFXML format."
   ]
  },
  {
   "cell_type": "markdown",
   "id": "e50545a0-99c0-418e-b08c-25e159ea4ad5",
   "metadata": {},
   "source": [
    "## EDI to XML\n",
    "\n",
    "Probably the most common format of MT transfer functions is the EDI format.  This was developed in the 1980's and has been a staple since due to its flexibility and readability.  However, the flexibility lends itself to be difficult to read in a standard way.  MT-Metadata supports various flavors of EDI files, probably not all so if you find one that doesn't read in properly raise an issue [here](https://github.com/kujaku11/mt_metadata/issues) with a label `transfer function`."
   ]
  },
  {
   "cell_type": "code",
   "execution_count": 1,
   "id": "66324fa9-7916-4624-925b-e29e1ae474b4",
   "metadata": {},
   "outputs": [],
   "source": [
    "from mt_metadata import TF_EDI_RHO_ONLY\n",
    "from mt_metadata.transfer_functions import TF"
   ]
  },
  {
   "cell_type": "markdown",
   "id": "9340d947-dbd2-4066-b753-bcebcf06d8f0",
   "metadata": {},
   "source": [
    "### Read in the Transfer Function File\n",
    "\n",
    "First, read in the transfer function file.  Here we are reading it into the generic `TF` object.  The `TF` object contains similar metadata to time series data with the addition of a few things like how the transfer function was created.\n",
    "\n",
    "The file we are reading is bare-bones and only contains resistivity and phase data for the off-diagonal components.  Therefore, we are going to need to add a lot of metadata to make it compliant with EMTFXML.  \n",
    "\n",
    "You should also note a feature and sometimes fustrating feature, is that if the transfer function has not elevation data the function `mt_metadata.transfer_functions.io.tools.get_nm_elev` is called.  This only works for North America and mostly the US.  Until we figure out a better way you will see an error message. Don't fret, this just means that the elevation could not be found and it is set to 0. You can ignore this by setting the keyword `TF.read(get_elevation=False)`."
   ]
  },
  {
   "cell_type": "code",
   "execution_count": 2,
   "id": "2cb0847e-3d80-43ce-95a1-4ca6a11cd437",
   "metadata": {},
   "outputs": [
    {
     "name": "stdout",
     "output_type": "stream",
     "text": [
      "\u001b[31m\u001b[1m2023-09-27T15:23:34.213438-0700 | ERROR | mt_metadata.transfer_functions.io.tools | get_nm_elev | Input values (latitude=-34.646, longitude=137.006) could not be found on US National Map.\u001b[0m\n"
     ]
    }
   ],
   "source": [
    "tf_object = TF(TF_EDI_RHO_ONLY)\n",
    "tf_object.read(get_elevation=True)"
   ]
  },
  {
   "cell_type": "code",
   "execution_count": 3,
   "id": "18908c65-0b5e-4c7e-8313-cb8d002d5d41",
   "metadata": {},
   "outputs": [],
   "source": [
    "tf_object = TF(TF_EDI_RHO_ONLY)\n",
    "tf_object.read(get_elevation=False)"
   ]
  },
  {
   "cell_type": "markdown",
   "id": "3cda5595-c153-463f-b9c1-7e9cbbfe9b94",
   "metadata": {},
   "source": [
    "At this point we can do one of two things, \n",
    "\n",
    "1. Fill in metadata into the `TF` object then write (maybe more intuitive if you have the time series metadata)\n",
    "2. Convert to an `EMTFXML` object and fill in metadata directly (maybe faster if you are just filling in metadata from scratch)"
   ]
  },
  {
   "cell_type": "markdown",
   "id": "533414bc-c6fb-4b5f-98e5-eb3631fed9d5",
   "metadata": {},
   "source": [
    "### Fill in Metadata\n",
    "\n",
    "Before you start filling out fields, you should probably know what fields are there and what they mean.  Lets have a look at the fields"
   ]
  },
  {
   "cell_type": "code",
   "execution_count": 4,
   "id": "5464bc3a-b076-4569-8733-aace1a00fefc",
   "metadata": {},
   "outputs": [],
   "source": [
    "xml_object = tf_object.to_emtfxml()"
   ]
  },
  {
   "cell_type": "markdown",
   "id": "a0f27ca0-3228-4cfd-93a1-a10d26724b45",
   "metadata": {},
   "source": [
    "#### Sections of an EMTFXML\n",
    "\n",
    "Here are the key sections in an EMTFXML file, in order.  Note the names are put into lower case for easier typing, in the XML file these will be Capital Case.  `product_id` -> `ProductId`"
   ]
  },
  {
   "cell_type": "code",
   "execution_count": 5,
   "id": "8d244891-ea80-4535-a298-1a108f688c6b",
   "metadata": {},
   "outputs": [
    {
     "name": "stdout",
     "output_type": "stream",
     "text": [
      "description\n",
      "product_id\n",
      "sub_type\n",
      "notes\n",
      "tags\n",
      "external_url\n",
      "primary_data\n",
      "attachment\n",
      "provenance\n",
      "copyright\n",
      "site\n",
      "field_notes\n",
      "processing_info\n",
      "statistical_estimates\n",
      "data_types\n",
      "site_layout\n",
      "data\n",
      "period_range\n"
     ]
    }
   ],
   "source": [
    "for section in xml_object.element_keys:\n",
    "    print(section)"
   ]
  },
  {
   "cell_type": "markdown",
   "id": "1e1ac971-f796-4fab-9106-b03d0f619dec",
   "metadata": {},
   "source": [
    "#### Getting help with attributes of each section"
   ]
  },
  {
   "cell_type": "code",
   "execution_count": 6,
   "id": "75de72be-e34d-427f-b537-7eb4af70d0a2",
   "metadata": {
    "tags": []
   },
   "outputs": [
    {
     "name": "stdout",
     "output_type": "stream",
     "text": [
      "       +----------------------------------------------+-----------------------------------------------+----------------+\n",
      "       | **Metadata Key**                             | **Description**                               | **Example**    |\n",
      "       +==============================================+===============================================+================+\n",
      "       | **create_time**                              | date and time the file was created            | 2020-02-08T12:2|\n",
      "       |                                              |                                               | 3:40.324600+00:|\n",
      "       | Required: True                               |                                               | 00             |\n",
      "       |                                              |                                               |                |\n",
      "       | Units: None                                  |                                               |                |\n",
      "       |                                              |                                               |                |\n",
      "       | Type: string                                 |                                               |                |\n",
      "       |                                              |                                               |                |\n",
      "       | Style: date time                             |                                               |                |\n",
      "       |                                              |                                               |                |\n",
      "       | Default: 1980-01-01T00:00:00+00:00           |                                               |                |\n",
      "       +----------------------------------------------+-----------------------------------------------+----------------+\n",
      "       | **creating_application**                     | name of the application that created the XML  | EMTF File      |\n",
      "       |                                              | file                                          | Conversion     |\n",
      "       | Required: True                               |                                               | Utilities 4.0  |\n",
      "       |                                              |                                               |                |\n",
      "       | Units: None                                  |                                               |                |\n",
      "       |                                              |                                               |                |\n",
      "       | Type: string                                 |                                               |                |\n",
      "       |                                              |                                               |                |\n",
      "       | Style: free form                             |                                               |                |\n",
      "       |                                              |                                               |                |\n",
      "       | Default: mt_metadata                         |                                               |                |\n",
      "       +----------------------------------------------+-----------------------------------------------+----------------+\n",
      "       | **creator.name**                             | author name                                   | person name    |\n",
      "       |                                              |                                               |                |\n",
      "       | Required: True                               |                                               |                |\n",
      "       |                                              |                                               |                |\n",
      "       | Units: None                                  |                                               |                |\n",
      "       |                                              |                                               |                |\n",
      "       | Type: string                                 |                                               |                |\n",
      "       |                                              |                                               |                |\n",
      "       | Style: free form                             |                                               |                |\n",
      "       |                                              |                                               |                |\n",
      "       | Default: None                                |                                               |                |\n",
      "       +----------------------------------------------+-----------------------------------------------+----------------+\n",
      "       | **creator.email**                            | email of the contact person                   | mt.guru@em.org |\n",
      "       |                                              |                                               |                |\n",
      "       | Required: True                               |                                               |                |\n",
      "       |                                              |                                               |                |\n",
      "       | Units: None                                  |                                               |                |\n",
      "       |                                              |                                               |                |\n",
      "       | Type: string                                 |                                               |                |\n",
      "       |                                              |                                               |                |\n",
      "       | Style: email                                 |                                               |                |\n",
      "       |                                              |                                               |                |\n",
      "       | Default: None                                |                                               |                |\n",
      "       +----------------------------------------------+-----------------------------------------------+----------------+\n",
      "       | **creator.org**                              | organization name                             | mt gurus       |\n",
      "       |                                              |                                               |                |\n",
      "       | Required: True                               |                                               |                |\n",
      "       |                                              |                                               |                |\n",
      "       | Units: None                                  |                                               |                |\n",
      "       |                                              |                                               |                |\n",
      "       | Type: string                                 |                                               |                |\n",
      "       |                                              |                                               |                |\n",
      "       | Style: free form                             |                                               |                |\n",
      "       |                                              |                                               |                |\n",
      "       | Default: None                                |                                               |                |\n",
      "       +----------------------------------------------+-----------------------------------------------+----------------+\n",
      "       | **creator.org_url**                          | URL of organization                           | https://www.mt_|\n",
      "       |                                              |                                               | gurus.org      |\n",
      "       | Required: False                              |                                               |                |\n",
      "       |                                              |                                               |                |\n",
      "       | Units: None                                  |                                               |                |\n",
      "       |                                              |                                               |                |\n",
      "       | Type: string                                 |                                               |                |\n",
      "       |                                              |                                               |                |\n",
      "       | Style: url                                   |                                               |                |\n",
      "       |                                              |                                               |                |\n",
      "       | Default: None                                |                                               |                |\n",
      "       +----------------------------------------------+-----------------------------------------------+----------------+\n",
      "       | **submitter.name**                           | author name                                   | person name    |\n",
      "       |                                              |                                               |                |\n",
      "       | Required: True                               |                                               |                |\n",
      "       |                                              |                                               |                |\n",
      "       | Units: None                                  |                                               |                |\n",
      "       |                                              |                                               |                |\n",
      "       | Type: string                                 |                                               |                |\n",
      "       |                                              |                                               |                |\n",
      "       | Style: free form                             |                                               |                |\n",
      "       |                                              |                                               |                |\n",
      "       | Default: None                                |                                               |                |\n",
      "       +----------------------------------------------+-----------------------------------------------+----------------+\n",
      "       | **submitter.email**                          | email of the contact person                   | mt.guru@em.org |\n",
      "       |                                              |                                               |                |\n",
      "       | Required: True                               |                                               |                |\n",
      "       |                                              |                                               |                |\n",
      "       | Units: None                                  |                                               |                |\n",
      "       |                                              |                                               |                |\n",
      "       | Type: string                                 |                                               |                |\n",
      "       |                                              |                                               |                |\n",
      "       | Style: email                                 |                                               |                |\n",
      "       |                                              |                                               |                |\n",
      "       | Default: None                                |                                               |                |\n",
      "       +----------------------------------------------+-----------------------------------------------+----------------+\n",
      "       | **submitter.org**                            | organization name                             | mt gurus       |\n",
      "       |                                              |                                               |                |\n",
      "       | Required: True                               |                                               |                |\n",
      "       |                                              |                                               |                |\n",
      "       | Units: None                                  |                                               |                |\n",
      "       |                                              |                                               |                |\n",
      "       | Type: string                                 |                                               |                |\n",
      "       |                                              |                                               |                |\n",
      "       | Style: free form                             |                                               |                |\n",
      "       |                                              |                                               |                |\n",
      "       | Default: None                                |                                               |                |\n",
      "       +----------------------------------------------+-----------------------------------------------+----------------+\n",
      "       | **submitter.org_url**                        | URL of organization                           | https://www.mt_|\n",
      "       |                                              |                                               | gurus.org      |\n",
      "       | Required: False                              |                                               |                |\n",
      "       |                                              |                                               |                |\n",
      "       | Units: None                                  |                                               |                |\n",
      "       |                                              |                                               |                |\n",
      "       | Type: string                                 |                                               |                |\n",
      "       |                                              |                                               |                |\n",
      "       | Style: url                                   |                                               |                |\n",
      "       |                                              |                                               |                |\n",
      "       | Default: None                                |                                               |                |\n",
      "       +----------------------------------------------+-----------------------------------------------+----------------+\n"
     ]
    }
   ],
   "source": [
    "print(xml_object.provenance.__doc__)"
   ]
  },
  {
   "cell_type": "markdown",
   "id": "4178b17d-cd5a-4211-a1bb-e26d4379bddf",
   "metadata": {},
   "source": [
    "#### Alternatively using print\n",
    "\n",
    "If you just want to know what the element looks like in XML, you can use the print statement and `to_xml` method"
   ]
  },
  {
   "cell_type": "code",
   "execution_count": 7,
   "id": "1ca35b21-3b57-4d4f-99bb-a51af88eeb46",
   "metadata": {},
   "outputs": [
    {
     "name": "stdout",
     "output_type": "stream",
     "text": [
      "<?xml version=\"1.0\" encoding=\"UTF-8\"?>\n",
      "<Attachment/>\n",
      "\n"
     ]
    }
   ],
   "source": [
    "print(xml_object.attachment.to_xml(string=True))"
   ]
  },
  {
   "cell_type": "markdown",
   "id": "115c89c8-fe1f-4538-8544-9f71a154a505",
   "metadata": {},
   "source": [
    "## 1. Description\n",
    "\n",
    "`Description` is a few words about what is included in the file.  For MT transfer functions this will almost always be `Magnetotelluric Transfer Functions`, which is the default value. "
   ]
  },
  {
   "cell_type": "code",
   "execution_count": 8,
   "id": "f2f9b15e-ea5f-471b-a1a5-25df777d6155",
   "metadata": {},
   "outputs": [
    {
     "data": {
      "text/plain": [
       "'Magnetotelluric Transfer Functions'"
      ]
     },
     "execution_count": 8,
     "metadata": {},
     "output_type": "execute_result"
    }
   ],
   "source": [
    "xml_object.description"
   ]
  },
  {
   "cell_type": "markdown",
   "id": "46b07214-2ed2-4a73-b148-a251abd3d338",
   "metadata": {},
   "source": [
    "## 2. ProductID\n",
    "\n",
    "The Product ID provides a unique identifier to the transfer function, whilst including the survey, project, and station name. The format should be `{project}.{station_id}.{year}` for example data collected by a group at the USGS for station MT01 in 2020 would be `USGS.MT01.2020`.  "
   ]
  },
  {
   "cell_type": "code",
   "execution_count": 9,
   "id": "d3aff9eb-0981-49eb-926c-40ebdfceec28",
   "metadata": {},
   "outputs": [
    {
     "data": {
      "text/plain": [
       "'Spencer Gulf.s08.2020'"
      ]
     },
     "execution_count": 9,
     "metadata": {},
     "output_type": "execute_result"
    }
   ],
   "source": [
    "xml_object.product_id"
   ]
  },
  {
   "cell_type": "code",
   "execution_count": 10,
   "id": "330ca134-ac14-4f56-a7f3-93eb52c8f341",
   "metadata": {},
   "outputs": [],
   "source": [
    "xml_object.product_id = \"USGS.MT01.2020\""
   ]
  },
  {
   "cell_type": "markdown",
   "id": "48e2b345-c314-45d2-a07d-de610db8e741",
   "metadata": {},
   "source": [
    "## 3. SubType\n",
    "\n",
    "`SubType` provides a secondary keyword for the what the file includes.  This will almost always be `MT_TF`, which is the default value"
   ]
  },
  {
   "cell_type": "code",
   "execution_count": 11,
   "id": "74e1a097-7345-494e-98a0-1ed7ca0cb7f2",
   "metadata": {},
   "outputs": [],
   "source": [
    "xml_object.sub_type = \"MT_TF\""
   ]
  },
  {
   "cell_type": "markdown",
   "id": "5f1a15df-cfea-4ab1-9901-fe0868eabe38",
   "metadata": {},
   "source": [
    "## 4. Notes\n",
    "\n",
    "`Notes` allows for any free text notes about the file. "
   ]
  },
  {
   "cell_type": "code",
   "execution_count": 12,
   "id": "376e2cb0-454c-44dd-ae0b-92c505ebcc74",
   "metadata": {},
   "outputs": [],
   "source": [
    "xml_object.notes = \"This is an example note\""
   ]
  },
  {
   "cell_type": "markdown",
   "id": "11028ab2-8d50-4747-b9f5-6901c366198a",
   "metadata": {},
   "source": [
    "## 5. Tags\n",
    "\n",
    "`Tags` provides tags for what type of transfer functions are included in the file.  Options are \n",
    "\n",
    "- impedance\n",
    "- tipper\n",
    "\n",
    "Note that tags are automatically updated when `write` is called depending on the type of data the `EMTFXML` object contains."
   ]
  },
  {
   "cell_type": "code",
   "execution_count": 13,
   "id": "7ca2beb5-f368-460d-82b6-ac74976a8939",
   "metadata": {},
   "outputs": [
    {
     "data": {
      "text/plain": [
       "'impedance'"
      ]
     },
     "execution_count": 13,
     "metadata": {},
     "output_type": "execute_result"
    }
   ],
   "source": [
    "xml_object.tags"
   ]
  },
  {
   "cell_type": "markdown",
   "id": "d0f4b598-c22c-49b3-9873-5c80f3a2d069",
   "metadata": {
    "tags": []
   },
   "source": [
    "## 6. ExternalUrl\n",
    "\n",
    "`ExternalUrl` describes a URL that is not contained within the IRIS archive, or a URL that the data is related to that is not within the IRIS archive.  For example if the time series is archived in a different place a link to that URL would be placed here. \n",
    "\n",
    "It contains attributes\n",
    "\n",
    "- **description**: A description of where and what the URL points to\n",
    "- **url**: the actual URL link"
   ]
  },
  {
   "cell_type": "code",
   "execution_count": 14,
   "id": "b0d89ac9-862b-422a-9c24-2371d4213ac4",
   "metadata": {},
   "outputs": [
    {
     "data": {
      "text/plain": [
       "{\n",
       "    \"external_url\": {\n",
       "        \"description\": null,\n",
       "        \"url\": null\n",
       "    }\n",
       "}"
      ]
     },
     "execution_count": 14,
     "metadata": {},
     "output_type": "execute_result"
    }
   ],
   "source": [
    "xml_object.external_url"
   ]
  },
  {
   "cell_type": "code",
   "execution_count": 15,
   "id": "08dc46a9-87d9-4525-afe3-6647332d9f23",
   "metadata": {},
   "outputs": [],
   "source": [
    "xml_object.external_url.description = \"This is a fake link to non existing time series data.\"\n",
    "xml_object.external_url.url = \"fake.data.test\""
   ]
  },
  {
   "cell_type": "markdown",
   "id": "6e1c0a54-6335-4dce-b04c-b9a6eba62e5f",
   "metadata": {},
   "source": [
    "## 7. Primary Data\n",
    "\n",
    "Primary data describes an image of the transfer function that is archived along side the transfer function. It has a single attribute\n",
    "\n",
    "- **filename**: file name of the image file \n",
    "  - *should be a .png file for easier storage and viewing*\n",
    "  - *should be named {station_id}.png*"
   ]
  },
  {
   "cell_type": "code",
   "execution_count": 16,
   "id": "58141b82-dc44-4544-a10b-bc35031d8d5c",
   "metadata": {},
   "outputs": [],
   "source": [
    "xml_object.primary_data.filename = \"s08.png\""
   ]
  },
  {
   "cell_type": "markdown",
   "id": "0c7378cf-90d2-4f17-b624-675ce8f1cb01",
   "metadata": {},
   "source": [
    "## 8. Attachment\n",
    "\n",
    "Describes any attachments archived with the XML file.  For example it is good practice to archive the original file along with the XML. In this example it would be the original EDI file. Attachment has two attributes\n",
    "\n",
    "- **description**: describing what is attached\n",
    "- **filename**: file name attached"
   ]
  },
  {
   "cell_type": "code",
   "execution_count": 17,
   "id": "6edb0b91-67f6-4938-9ea3-6544783b63e4",
   "metadata": {},
   "outputs": [
    {
     "data": {
      "text/plain": [
       "{\n",
       "    \"attachment\": {\n",
       "        \"description\": null,\n",
       "        \"filename\": null\n",
       "    }\n",
       "}"
      ]
     },
     "execution_count": 17,
     "metadata": {},
     "output_type": "execute_result"
    }
   ],
   "source": [
    "xml_object.attachment"
   ]
  },
  {
   "cell_type": "code",
   "execution_count": 18,
   "id": "6f51c0ef-d060-4fc8-88fd-1f3aad3a512d",
   "metadata": {},
   "outputs": [],
   "source": [
    "xml_object.attachment.description = \"Original EDI file to produce XML\"\n",
    "xml_object.attachment.filename = TF_EDI_RHO_ONLY.as_posix()"
   ]
  },
  {
   "cell_type": "markdown",
   "id": "dfcf11e5-7772-4796-ae92-61e26d4b59c6",
   "metadata": {},
   "source": [
    "## 9. Provenance \n",
    "\n",
    "Provenance describes where the file came from, who created it and who submitted it.  \n",
    "\n",
    "**Note**: `create_time` is updated to the time and date the file is written and the `creating_application` is filled in on write."
   ]
  },
  {
   "cell_type": "code",
   "execution_count": 19,
   "id": "504cb278-2fef-4882-be7d-298bf191bbb8",
   "metadata": {},
   "outputs": [
    {
     "data": {
      "text/plain": [
       "{\n",
       "    \"provenance\": {\n",
       "        \"create_time\": \"2020-12-15T00:00:00+00:00\",\n",
       "        \"creating_application\": \"DataManager\",\n",
       "        \"creator.email\": null,\n",
       "        \"creator.name\": null,\n",
       "        \"creator.org\": null,\n",
       "        \"submitter.email\": null,\n",
       "        \"submitter.name\": \"DataManager\",\n",
       "        \"submitter.org\": null\n",
       "    }\n",
       "}"
      ]
     },
     "execution_count": 19,
     "metadata": {},
     "output_type": "execute_result"
    }
   ],
   "source": [
    "xml_object.provenance"
   ]
  },
  {
   "cell_type": "code",
   "execution_count": 20,
   "id": "01fa2063-30f5-46f1-a04e-2e651e69c8b8",
   "metadata": {},
   "outputs": [],
   "source": [
    "xml_object.provenance.creator.name = \"me\"\n",
    "xml_object.provenance.creator.email = \"my.email@email\"\n",
    "xml_object.provenance.creator.org = \"my_organization\"\n",
    "xml_object.provenance.submitter.name = \"me\"\n",
    "xml_object.provenance.submitter.email = \"my.email@email\"\n",
    "xml_object.provenance.submitter.org = \"my_organization\""
   ]
  },
  {
   "cell_type": "markdown",
   "id": "9c927312-95c3-4e9f-9896-9a602ac39f9f",
   "metadata": {},
   "source": [
    "## 10. Copyright\n",
    "\n",
    "Copyright provides details on the accessibility and usage of the transfer function data.\n",
    "\n",
    "The attributes include:\n",
    "\n",
    "- **conditions_of_use**: how the data can be used and any disclaimer\n",
    "- **acknowledgement**: any acknowledgement to how the data was funded, collected, processed.\n",
    "- **release_status**: ['Unrestricted Release' | 'Restricted Release' ]"
   ]
  },
  {
   "cell_type": "code",
   "execution_count": 21,
   "id": "5fd328c6-0af4-428e-8b7b-7cacd909124a",
   "metadata": {},
   "outputs": [
    {
     "data": {
      "text/plain": [
       "{\n",
       "    \"copyright\": {\n",
       "        \"conditions_of_use\": \"All data and metadata for this survey are available free of charge and may be copied freely, duplicated and further distributed provided this data set is cited as the reference. While the author(s) strive to provide data and metadata of best possible quality, neither the author(s) of this data set, not IRIS make any claims, promises, or guarantees about the accuracy, completeness, or adequacy of this information, and expressly disclaim liability for errors and omissions in the contents of this file. Guidelines about the quality or limitations of the data and metadata, as obtained from the author(s), are included for informational purposes only.\",\n",
       "        \"release_status\": \"Unrestricted Release\"\n",
       "    }\n",
       "}"
      ]
     },
     "execution_count": 21,
     "metadata": {},
     "output_type": "execute_result"
    }
   ],
   "source": [
    "xml_object.copyright"
   ]
  },
  {
   "cell_type": "code",
   "execution_count": 22,
   "id": "b59d9464-b004-4ba2-8a76-08ebc9e2eadb",
   "metadata": {},
   "outputs": [],
   "source": [
    "xml_object.copyright.acknowledgement = \"The data collection was funded by someone and land permission was granted by the generous land owner.\""
   ]
  },
  {
   "cell_type": "markdown",
   "id": "fd8e8d43-646f-4e93-a299-832cf6bc297a",
   "metadata": {},
   "source": [
    "## 11. Site\n",
    "\n",
    "Site provides information about the site. There are a few tricky attributes.\n",
    "\n",
    "- **data_quality_notes**: these are meant to provide users with a qualitative first pass at the quality of the transfer function and which periods are useful. This is basically a judgement call and there is no standard way to rate the data, yet. \n",
    "  - **data_quality_notes.rating**:\n",
    "    - **0**: Not rated\n",
    "    - **1**: bad\n",
    "    - **2**: not terrible\n",
    "    - **3**: mediocre\n",
    "    - **4**: good\n",
    "    - **5**: great\n",
    "- **name**: Should be the closest geographic location to the station.  If you are collecting a site near Manhattan in New York City a good name might be `Manhattan, NYC`\n",
    "- **orientation**: is meant to convey the orientation of the transfer function, not how the data were collected.  So if you collected the data in an orthogonal coordinate system but was oriented to geomagnetic North, then you processed the data and rotated to geographic North, then the `angle_to_geographic_north` would be 0.\n",
    "  - **orientation.layout**: [ 'orthogonal' | 'sitelayout' ]"
   ]
  },
  {
   "cell_type": "code",
   "execution_count": 23,
   "id": "e00cee82-d208-42e8-8525-598613388828",
   "metadata": {},
   "outputs": [
    {
     "data": {
      "text/plain": [
       "OrderedDict([('acquired_by', 'UofAdel,Scripps,GA,GSSA,AuScope'),\n",
       "             ('data_quality_notes.rating', 0),\n",
       "             ('id', 's08'),\n",
       "             ('location.datum', 'WGS84'),\n",
       "             ('location.elevation', 0.0),\n",
       "             ('location.latitude', -34.646),\n",
       "             ('location.longitude', 137.006),\n",
       "             ('orientation.layout', 'orthogonal'),\n",
       "             ('project', 'Spencer Gulf'),\n",
       "             ('run_list', 's08a'),\n",
       "             ('start', '2020-10-11T00:00:00+00:00'),\n",
       "             ('survey', 'Spencer Gulf'),\n",
       "             ('year_collected', 2020)])"
      ]
     },
     "execution_count": 23,
     "metadata": {},
     "output_type": "execute_result"
    }
   ],
   "source": [
    "xml_object.site.to_dict(single=True)"
   ]
  },
  {
   "cell_type": "code",
   "execution_count": 24,
   "id": "059506d2-b4f2-4346-b144-e82ebc038b2f",
   "metadata": {},
   "outputs": [
    {
     "data": {
      "text/plain": [
       "OrderedDict([('comments.author', None),\n",
       "             ('comments.date', '1980-01-01T00:00:00+00:00'),\n",
       "             ('comments.value', None),\n",
       "             ('good_from_period', None),\n",
       "             ('good_to_period', None),\n",
       "             ('rating', 0)])"
      ]
     },
     "execution_count": 24,
     "metadata": {},
     "output_type": "execute_result"
    }
   ],
   "source": [
    "xml_object.site.data_quality_notes.to_dict(single=True, required=False)"
   ]
  },
  {
   "cell_type": "code",
   "execution_count": 25,
   "id": "565ade60-b0ba-4a7b-b00a-f81068ce4f94",
   "metadata": {},
   "outputs": [],
   "source": [
    "xml_object.site.data_quality_notes.good_from_period = 1E-3 # high frequency / short period\n",
    "xml_object.site.data_quality_notes.good_to_period = 1E3    # low frequency / long period"
   ]
  },
  {
   "cell_type": "markdown",
   "id": "375a7dc8-d304-4c18-b079-9867a9f0c78b",
   "metadata": {},
   "source": [
    "## 12. FieldNotes\n",
    "\n",
    "FieldNotes is meant to provide information on how the data were collected in the field including what instruments were used, what were the orientations, any notes that maybe useful. This can include multiple runs if necessary.  "
   ]
  },
  {
   "cell_type": "markdown",
   "id": "a57a4785-9aba-4007-a41f-a18005ccd8d1",
   "metadata": {},
   "source": [
    "## 13. ProcessingInfo\n",
    "\n",
    "Provides information on how the transfer function was estimated. "
   ]
  },
  {
   "cell_type": "code",
   "execution_count": 26,
   "id": "add7fc35-f1b7-47da-b4b0-6fb90d89e601",
   "metadata": {},
   "outputs": [
    {
     "data": {
      "text/plain": [
       "OrderedDict([('process_date', '2020-12-15'),\n",
       "             ('processed_by', None),\n",
       "             ('processing_software.author', None),\n",
       "             ('processing_software.last_mod', '1980-01-01'),\n",
       "             ('processing_software.name', None),\n",
       "             ('processing_tag', 's08a'),\n",
       "             ('remote_info.site.acquired_by', None),\n",
       "             ('remote_info.site.comments.author', None),\n",
       "             ('remote_info.site.comments.date', '1980-01-01T00:00:00+00:00'),\n",
       "             ('remote_info.site.comments.value', None),\n",
       "             ('remote_info.site.country', None),\n",
       "             ('remote_info.site.data_quality_notes.comments.author', None),\n",
       "             ('remote_info.site.data_quality_notes.comments.date',\n",
       "              '1980-01-01T00:00:00+00:00'),\n",
       "             ('remote_info.site.data_quality_notes.comments.value', None),\n",
       "             ('remote_info.site.data_quality_notes.good_from_period', None),\n",
       "             ('remote_info.site.data_quality_notes.good_to_period', None),\n",
       "             ('remote_info.site.data_quality_notes.rating', None),\n",
       "             ('remote_info.site.data_quality_warnings.flag', None),\n",
       "             ('remote_info.site.end', '1980-01-01T00:00:00+00:00'),\n",
       "             ('remote_info.site.id', None),\n",
       "             ('remote_info.site.location.datum', None),\n",
       "             ('remote_info.site.location.elevation', 0.0),\n",
       "             ('remote_info.site.location.elevation_uncertainty', None),\n",
       "             ('remote_info.site.location.latitude', 0.0),\n",
       "             ('remote_info.site.location.latitude_uncertainty', None),\n",
       "             ('remote_info.site.location.longitude', 0.0),\n",
       "             ('remote_info.site.location.longitude_uncertainty', None),\n",
       "             ('remote_info.site.location.x', None),\n",
       "             ('remote_info.site.location.x2', None),\n",
       "             ('remote_info.site.location.x_uncertainty', None),\n",
       "             ('remote_info.site.location.y', None),\n",
       "             ('remote_info.site.location.y2', None),\n",
       "             ('remote_info.site.location.y_uncertainty', None),\n",
       "             ('remote_info.site.location.z', None),\n",
       "             ('remote_info.site.location.z2', None),\n",
       "             ('remote_info.site.location.z_uncertainty', None),\n",
       "             ('remote_info.site.name', None),\n",
       "             ('remote_info.site.orientation.angle_to_geographic_north', 0.0),\n",
       "             ('remote_info.site.orientation.layout', 'orthogonal'),\n",
       "             ('remote_info.site.project', None),\n",
       "             ('remote_info.site.run_list', ''),\n",
       "             ('remote_info.site.start', '1980-01-01T00:00:00+00:00'),\n",
       "             ('remote_info.site.survey', None),\n",
       "             ('remote_info.site.year_collected', 1980),\n",
       "             ('remote_ref.type', None),\n",
       "             ('sign_convention', None)])"
      ]
     },
     "execution_count": 26,
     "metadata": {},
     "output_type": "execute_result"
    }
   ],
   "source": [
    "xml_object.processing_info.to_dict(single=True, required=False)"
   ]
  },
  {
   "cell_type": "markdown",
   "id": "6d7e1da6-82fe-4e00-bae4-76ee2dacb7ef",
   "metadata": {},
   "source": [
    "## 14. StatisticalEstimates\n",
    "\n",
    "Provides boilerplate information on statistical estimates related to the transfer function in the XML file"
   ]
  },
  {
   "cell_type": "code",
   "execution_count": 27,
   "id": "554799ab-7480-4428-87c6-786b4a302850",
   "metadata": {},
   "outputs": [
    {
     "data": {
      "text/plain": [
       "{\n",
       "    \"statistical_estimates\": {\n",
       "        \"estimates_list\": [\n",
       "            {\n",
       "                \"estimate\": {\n",
       "                    \"description\": \"Variance\",\n",
       "                    \"external_url\": \"http://www.iris.edu/dms/products/emtf/variance.html\",\n",
       "                    \"intention\": \"error estimate\",\n",
       "                    \"name\": \"VAR\",\n",
       "                    \"tag\": \"variance\",\n",
       "                    \"type\": \"real\"\n",
       "                }\n",
       "            }\n",
       "        ]\n",
       "    }\n",
       "}"
      ]
     },
     "execution_count": 27,
     "metadata": {},
     "output_type": "execute_result"
    }
   ],
   "source": [
    "xml_object.statistical_estimates"
   ]
  },
  {
   "cell_type": "markdown",
   "id": "b91eb9ea-5617-43ae-b5fc-86d126024924",
   "metadata": {},
   "source": [
    "## 15. DataTypes\n",
    "\n",
    "Provides boilerplate information on the transfer function data types in the XML file"
   ]
  },
  {
   "cell_type": "code",
   "execution_count": 28,
   "id": "a3f2f0cb-f100-4dc3-89a4-56ced0b87aa9",
   "metadata": {},
   "outputs": [
    {
     "data": {
      "text/plain": [
       "{\n",
       "    \"data_types\": {\n",
       "        \"data_types_list\": [\n",
       "            {\n",
       "                \"data_type\": {\n",
       "                    \"description\": \"MT impedance\",\n",
       "                    \"external_url\": \"http://www.iris.edu/dms/products/emtf/impedance.html\",\n",
       "                    \"input\": \"H\",\n",
       "                    \"intention\": \"primary data type\",\n",
       "                    \"name\": \"Z\",\n",
       "                    \"output\": \"E\",\n",
       "                    \"tag\": \"impedance\",\n",
       "                    \"type\": \"complex\",\n",
       "                    \"units\": \"[mV/km]/[nT]\"\n",
       "                }\n",
       "            }\n",
       "        ]\n",
       "    }\n",
       "}"
      ]
     },
     "execution_count": 28,
     "metadata": {},
     "output_type": "execute_result"
    }
   ],
   "source": [
    "xml_object.data_types"
   ]
  },
  {
   "cell_type": "markdown",
   "id": "5203c305-1e9a-4085-9230-a93748dd5476",
   "metadata": {},
   "source": [
    "## 16. SiteLayout\n",
    "\n",
    "Provides concise information on how the station was setup and which channels were recorded as \"input\" and \"output\" channels."
   ]
  },
  {
   "cell_type": "code",
   "execution_count": 29,
   "id": "d2b8ead9-66dd-4a82-a770-85284894257e",
   "metadata": {},
   "outputs": [
    {
     "data": {
      "text/plain": [
       "{\n",
       "    \"site_layout\": {\n",
       "        \"input_channels\": [\n",
       "            {\n",
       "                \"magnetic\": {\n",
       "                    \"name\": \"Hx\",\n",
       "                    \"orientation\": 0.0,\n",
       "                    \"x\": 0.0,\n",
       "                    \"y\": 0.0,\n",
       "                    \"z\": 0.0\n",
       "                }\n",
       "            },\n",
       "            {\n",
       "                \"magnetic\": {\n",
       "                    \"name\": \"Hy\",\n",
       "                    \"orientation\": 90.0,\n",
       "                    \"x\": 0.0,\n",
       "                    \"y\": 0.0,\n",
       "                    \"z\": 0.0\n",
       "                }\n",
       "            }\n",
       "        ],\n",
       "        \"output_channels\": [\n",
       "            {\n",
       "                \"electric\": {\n",
       "                    \"name\": \"Ex\",\n",
       "                    \"orientation\": 0.0,\n",
       "                    \"x\": -5.0,\n",
       "                    \"x2\": 5.0,\n",
       "                    \"y\": 0.0,\n",
       "                    \"y2\": 0.0,\n",
       "                    \"z\": 0.0,\n",
       "                    \"z2\": 0.0\n",
       "                }\n",
       "            },\n",
       "            {\n",
       "                \"electric\": {\n",
       "                    \"name\": \"Ey\",\n",
       "                    \"orientation\": 90.0,\n",
       "                    \"x\": 0.0,\n",
       "                    \"x2\": 0.0,\n",
       "                    \"y\": -5.0,\n",
       "                    \"y2\": 5.0,\n",
       "                    \"z\": 0.0,\n",
       "                    \"z2\": 0.0\n",
       "                }\n",
       "            }\n",
       "        ]\n",
       "    }\n",
       "}"
      ]
     },
     "execution_count": 29,
     "metadata": {},
     "output_type": "execute_result"
    }
   ],
   "source": [
    "xml_object.site_layout"
   ]
  },
  {
   "cell_type": "markdown",
   "id": "7b1dc95a-fe04-4077-aeba-5bbc4d437add",
   "metadata": {},
   "source": [
    "## 17. Data\n",
    "\n",
    "Provides the actual data as blocks per period. Filled in automatically with the the data attributes of `xml_object.data`\n",
    "\n",
    "| Attribute | Description |\n",
    "|-----------|-------------|\n",
    "| **z** | Impedance values|\n",
    "|**z_var** | Impedance variance |\n",
    "|**z_invsigcov** | Impedance inverse signal covariance |\n",
    "| **z_residcov** | Impedance residual covariance |\n",
    "| **t** | Tipper values|\n",
    "|**t_var** | Tipper variance |\n",
    "|**t_invsigcov** | Tipper inverse signal covariance |\n",
    "| **t_residcov** | Tipper residual covariance |\n",
    "\n",
    "These can also be found in `xml_object._transfer_function` as an `xarray.DataSet`.\n",
    "\n"
   ]
  },
  {
   "cell_type": "code",
   "execution_count": 30,
   "id": "97d8665d-138f-4602-bb3c-2fceca633be9",
   "metadata": {},
   "outputs": [
    {
     "name": "stdout",
     "output_type": "stream",
     "text": [
      "<?xml version=\"1.0\" encoding=\"UTF-8\"?>\n",
      "<Data count=\"28\">\n",
      "    <Period value=\"7.939999015440e-03\" units=\"secs\">\n",
      "        <Z type=\"complex\" size=\"2 2\" units=\"[mV/km]/[nT]\">\n",
      "            <value name=\"Zxx\" output=\"Ex\" input=\"Hx\">1.000000e+32 1.000000e+32</value>\n",
      "            <value name=\"Zxy\" output=\"Ex\" input=\"Hy\">1.081125e+01 7.785428e+00</value>\n",
      "            <value name=\"Zyx\" output=\"Ey\" input=\"Hx\">-1.022391e+01 -7.619160e+00</value>\n",
      "            <value name=\"Zyy\" output=\"Ey\" input=\"Hy\">1.000000e+32 1.000000e+32</value>\n",
      "        </Z>\n",
      "        <Z.var type=\"real\" size=\"2 2\">\n",
      "            <value name=\"Zxx\" output=\"Ex\" input=\"Hx\">1.000000e+32</value>\n",
      "            <value name=\"Zxy\" output=\"Ex\" input=\"Hy\">5.741604e-05</value>\n",
      "            <value name=\"Zyx\" output=\"Ey\" input=\"Hx\">1.050861e-04</value>\n",
      "            <value name=\"Zyy\" output=\"Ey\" input=\"Hy\">1.000000e+32</value>\n",
      "        </Z.var>\n",
      "    </Period\n"
     ]
    }
   ],
   "source": [
    "print(xml_object.data.to_xml(string=True)[0:896])"
   ]
  },
  {
   "cell_type": "markdown",
   "id": "e7ea077d-e198-4995-9db5-9e349a939c01",
   "metadata": {},
   "source": [
    "## 18. PeriodRange\n",
    "\n",
    "Defines the period range.  Automatically filled from the data."
   ]
  },
  {
   "cell_type": "code",
   "execution_count": 31,
   "id": "79737696-ba66-41e9-b143-fdb866f711e0",
   "metadata": {},
   "outputs": [
    {
     "data": {
      "text/plain": [
       "{\n",
       "    \"period_range\": {\n",
       "        \"max\": 2730.8332372990308,\n",
       "        \"min\": 0.007939999015440123\n",
       "    }\n",
       "}"
      ]
     },
     "execution_count": 31,
     "metadata": {},
     "output_type": "execute_result"
    }
   ],
   "source": [
    "xml_object.period_range"
   ]
  },
  {
   "cell_type": "markdown",
   "id": "3b1d9937-350c-4491-9979-87153b33abd9",
   "metadata": {},
   "source": [
    "# Write EMTFXML File\n",
    "Once you are happy with the attributes you can write the file out.  Provide `write` with a full path name to the file you  want to write to."
   ]
  },
  {
   "cell_type": "code",
   "execution_count": 32,
   "id": "4ee67d9c-5378-491c-8901-776710af8017",
   "metadata": {
    "tags": []
   },
   "outputs": [],
   "source": [
    "xml_object.write(TF_EDI_RHO_ONLY.parent.joinpath(\"example.xml\"))"
   ]
  },
  {
   "cell_type": "markdown",
   "id": "dc47cc4f-a4fc-479a-9c96-4ecb9e9a074d",
   "metadata": {
    "tags": []
   },
   "source": [
    "# Archive at IRIS\n",
    "\n",
    "Now you have some XML files and you'd like to submit them to IRIS.  Currently the way to do that is to email Anna. More details to come."
   ]
  },
  {
   "cell_type": "code",
   "execution_count": null,
   "id": "a048c248-b8c1-4bf1-a698-e735992f9328",
   "metadata": {},
   "outputs": [],
   "source": []
  }
 ],
 "metadata": {
  "kernelspec": {
   "display_name": "Python 3 (ipykernel)",
   "language": "python",
   "name": "python3"
  },
  "language_info": {
   "codemirror_mode": {
    "name": "ipython",
    "version": 3
   },
   "file_extension": ".py",
   "mimetype": "text/x-python",
   "name": "python",
   "nbconvert_exporter": "python",
   "pygments_lexer": "ipython3",
   "version": "3.8.13"
  }
 },
 "nbformat": 4,
 "nbformat_minor": 5
}
