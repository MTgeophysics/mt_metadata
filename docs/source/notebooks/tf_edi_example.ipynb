{
 "cells": [
  {
   "cell_type": "markdown",
   "id": "dcd30715-d919-4893-b263-e70da852a584",
   "metadata": {},
   "source": [
    "# EDI formats\n",
    "\n",
    "[EDI](https://library.seg.org/doi/abs/10.1190/1.1892244) files have historically been the most common format for MT transfer functions.  The metadata is quite flexible and can be verbose or scant in details about the transfer function.  Needless to say there are many flavor of EDI files.  The EDI module has been test with various flavors, if you find your's is not read properly be sure to raise an [issue](https://github.com/kujaku11/mt_metadata/issues) with the \"transfer function\" label.  \n",
    "\n",
    "Here we will load a few different types of EDI files into TF. The files are common products from contracting companies."
   ]
  },
  {
   "cell_type": "code",
   "execution_count": null,
   "id": "1c1c4ff7-8fba-4c95-be27-162f9a9f7c38",
   "metadata": {},
   "outputs": [],
   "source": [
    "from mt_metadata.transfer_functions.core import TF"
   ]
  },
  {
   "cell_type": "markdown",
   "id": "8d74b614-7f23-4705-b0b1-3e81baeec37e",
   "metadata": {},
   "source": [
    "### Common output by Phoenix Geophysics"
   ]
  },
  {
   "cell_type": "code",
   "execution_count": 2,
   "id": "d2a95b99-b0f8-46fb-bce4-096600024cb8",
   "metadata": {},
   "outputs": [],
   "source": [
    "from mt_metadata import TF_EDI_PHOENIX"
   ]
  },
  {
   "cell_type": "code",
   "execution_count": 3,
   "id": "28be888b-29d1-465f-9f59-6ee928a3ad3b",
   "metadata": {},
   "outputs": [],
   "source": [
    "tf_object = TF(fn=TF_EDI_PHOENIX)"
   ]
  },
  {
   "cell_type": "code",
   "execution_count": 4,
   "id": "66754418-acad-43c8-93a0-4566e36a64c9",
   "metadata": {},
   "outputs": [
    {
     "name": "stdout",
     "output_type": "stream",
     "text": [
      "Station: 14-IEB0537A\n",
      "--------------------------------------------------\n",
      "\tSurvey:        BOULIA\n",
      "\tProject:       None\n",
      "\tAcquired by:   Phoenix\n",
      "\tAcquired date: 2014-07-28\n",
      "\tLatitude:      -22.824\n",
      "\tLongitude:     139.295\n",
      "\tElevation:     158.000\n",
      "\tDeclination:   \n",
      "\t\tValue:     0.0\n",
      "\t\tModel:     EMAG2\n",
      "\tImpedance:     True\n",
      "\tTipper:        True\n",
      "\tN Periods:     80\n",
      "\tPeriod Range:\n",
      "\t\tMin:   3.12500E-03 s\n",
      "\t\tMax:   2.94118E+03 s\n",
      "\tFrequency Range:\n",
      "\t\tMin:   3.40000E-04 Hz\n",
      "\t\tMax:   3.20000E+02 Hz\n"
     ]
    }
   ],
   "source": [
    "print(tf_object)"
   ]
  }
 ],
 "metadata": {
  "kernelspec": {
   "display_name": "Python 3 (ipykernel)",
   "language": "python",
   "name": "python3"
  },
  "language_info": {
   "codemirror_mode": {
    "name": "ipython",
    "version": 3
   },
   "file_extension": ".py",
   "mimetype": "text/x-python",
   "name": "python",
   "nbconvert_exporter": "python",
   "pygments_lexer": "ipython3",
   "version": "3.8.12"
  }
 },
 "nbformat": 4,
 "nbformat_minor": 5
}
